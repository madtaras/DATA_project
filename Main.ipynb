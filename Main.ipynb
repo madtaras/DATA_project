{
 "cells": [
  {
   "cell_type": "markdown",
   "metadata": {},
   "source": [
    "# Loan application status analysis and prediction\n",
    "\n",
    "## Goal\n",
    "The goal of this project is to process the loan applications dataset. I'll use data integration, data cleaning, inserting missing values, feature selection. The accuracy of logistic regression that predicts the status on application will be used as success metric. The accuracy on original dataset will be compared with accuracies after each step.\n",
    "\n",
    "The goal of the project isn't achieving the high accuracy itself but rather preparing the dataset for further work. Accuracy is only used as progress metric.\n",
    "\n",
    "## Motivation\n",
    "Finance is a point of interest for me. That could give some insights on how the decision in loan giving institutions is made. I spent 6 hours searching for the proper dataset and this one worked the best in terms on number of examples, features and the data processing work to do. The dataset wasn't fully processed which is a perfect fit for me.\n",
    "\n",
    "## Similar work done by other people\n",
    "https://towardsdatascience.com/predicting-loan-repayment-5df4e0023e92 - mostly focuses on eliminating False Negatives\n",
    "https://www.kaggle.com/hafidhfikri/loan-approval-prediction - the accuration of classification is 54.92%\n",
    "\n",
    "## Steps\n",
    "0 step: calculate the accuracy on original dataset  \n",
    "1. Remove rows with empty values\n",
    "2. Transform categorical data to numbers\n",
    "3. Calculate accuracy\n",
    "\n",
    "1st step: Data integration, data cleaning,  \n",
    "1. inserting missing values\n",
    "2. Fix errors in classes\n",
    "3. Rename the columns to make names more clear\n",
    "4. Replace categorical missing values with column mode (all the numerical values were present)\n",
    "5. Transform categorical data to numbers\n",
    "6. Calculate accuracy\n",
    "\n",
    "Visualize the data  \n",
    "\n",
    "2nd step: Feature selection  \n",
    "1. Use the dataset from 1st step\n",
    "2. Select features using sklearn.feature_selection.SelectKBest with chi2, f_classif and k=[2, 5, 10, 15, 20]\n",
    "3. Calculate accuracy on each option\n",
    "4. Choose the highest accuracy and list features\n",
    "\n",
    "## Feature selection. Chosen method justification and short description\n",
    "I chose SelectKBest algorithm for feature selection. it uses scoring function to choose k features that influence the column of interest the most. It's easy to use. As scoring functions I chose chi2, f_classif which work with classification problems.\n",
    "\n",
    "After getting good improvement using this method I decided not to proceed with other methods.\n",
    "\n",
    "## References\n",
    "Dataset source - https://www.engineeringbigdata.com/datasets/  \n",
    "sklearn API reference - https://scikit-learn.org/stable/modules/classes.html#api-reference"
   ]
  },
  {
   "cell_type": "code",
   "execution_count": 66,
   "metadata": {
    "collapsed": true
   },
   "outputs": [],
   "source": [
    "import pandas as pd\n",
    "import numpy as np\n",
    "import matplotlib.pyplot as plt\n",
    "%matplotlib inline\n",
    "from sklearn import linear_model\n",
    "from sklearn.feature_selection import SelectKBest, f_classif\n",
    "from sklearn.feature_selection import chi2\n",
    "import timeit"
   ]
  },
  {
   "cell_type": "markdown",
   "metadata": {},
   "source": [
    "## Load the data"
   ]
  },
  {
   "cell_type": "code",
   "execution_count": 67,
   "metadata": {
    "collapsed": true
   },
   "outputs": [],
   "source": [
    "data = pd.read_csv('data/credit.csv')"
   ]
  },
  {
   "cell_type": "markdown",
   "metadata": {},
   "source": [
    "## Explore the data"
   ]
  },
  {
   "cell_type": "code",
   "execution_count": 68,
   "metadata": {},
   "outputs": [
    {
     "data": {
      "text/html": [
       "<div>\n",
       "<style scoped>\n",
       "    .dataframe tbody tr th:only-of-type {\n",
       "        vertical-align: middle;\n",
       "    }\n",
       "\n",
       "    .dataframe tbody tr th {\n",
       "        vertical-align: top;\n",
       "    }\n",
       "\n",
       "    .dataframe thead th {\n",
       "        text-align: right;\n",
       "    }\n",
       "</style>\n",
       "<table border=\"1\" class=\"dataframe\">\n",
       "  <thead>\n",
       "    <tr style=\"text-align: right;\">\n",
       "      <th></th>\n",
       "      <th>checking_balance</th>\n",
       "      <th>months_loan_duration</th>\n",
       "      <th>credit_history</th>\n",
       "      <th>purpose</th>\n",
       "      <th>amount</th>\n",
       "      <th>savings_balance</th>\n",
       "      <th>employment_duration</th>\n",
       "      <th>percent_of_income</th>\n",
       "      <th>years_at_residence</th>\n",
       "      <th>age</th>\n",
       "      <th>other_credit</th>\n",
       "      <th>housing</th>\n",
       "      <th>existing_loans_count</th>\n",
       "      <th>job</th>\n",
       "      <th>dependents</th>\n",
       "      <th>default</th>\n",
       "    </tr>\n",
       "  </thead>\n",
       "  <tbody>\n",
       "    <tr>\n",
       "      <th>0</th>\n",
       "      <td>&lt; 0 DM</td>\n",
       "      <td>6</td>\n",
       "      <td>critical</td>\n",
       "      <td>furniture/appliances</td>\n",
       "      <td>1169</td>\n",
       "      <td>unknown</td>\n",
       "      <td>&gt; 7 years</td>\n",
       "      <td>4</td>\n",
       "      <td>4</td>\n",
       "      <td>67</td>\n",
       "      <td>none</td>\n",
       "      <td>own</td>\n",
       "      <td>2</td>\n",
       "      <td>skilled</td>\n",
       "      <td>1</td>\n",
       "      <td>no</td>\n",
       "    </tr>\n",
       "    <tr>\n",
       "      <th>1</th>\n",
       "      <td>1 - 200 DM</td>\n",
       "      <td>48</td>\n",
       "      <td>good</td>\n",
       "      <td>furniture/appliances</td>\n",
       "      <td>5951</td>\n",
       "      <td>&lt; 100 DM</td>\n",
       "      <td>1 - 4 years</td>\n",
       "      <td>2</td>\n",
       "      <td>2</td>\n",
       "      <td>22</td>\n",
       "      <td>none</td>\n",
       "      <td>own</td>\n",
       "      <td>1</td>\n",
       "      <td>skilled</td>\n",
       "      <td>1</td>\n",
       "      <td>yes</td>\n",
       "    </tr>\n",
       "    <tr>\n",
       "      <th>2</th>\n",
       "      <td>unknown</td>\n",
       "      <td>12</td>\n",
       "      <td>critical</td>\n",
       "      <td>education</td>\n",
       "      <td>2096</td>\n",
       "      <td>&lt; 100 DM</td>\n",
       "      <td>4 - 7 years</td>\n",
       "      <td>2</td>\n",
       "      <td>3</td>\n",
       "      <td>49</td>\n",
       "      <td>none</td>\n",
       "      <td>own</td>\n",
       "      <td>1</td>\n",
       "      <td>unskilled</td>\n",
       "      <td>2</td>\n",
       "      <td>no</td>\n",
       "    </tr>\n",
       "    <tr>\n",
       "      <th>3</th>\n",
       "      <td>&lt; 0 DM</td>\n",
       "      <td>42</td>\n",
       "      <td>good</td>\n",
       "      <td>furniture/appliances</td>\n",
       "      <td>7882</td>\n",
       "      <td>&lt; 100 DM</td>\n",
       "      <td>4 - 7 years</td>\n",
       "      <td>2</td>\n",
       "      <td>4</td>\n",
       "      <td>45</td>\n",
       "      <td>none</td>\n",
       "      <td>other</td>\n",
       "      <td>1</td>\n",
       "      <td>skilled</td>\n",
       "      <td>2</td>\n",
       "      <td>no</td>\n",
       "    </tr>\n",
       "    <tr>\n",
       "      <th>4</th>\n",
       "      <td>&lt; 0 DM</td>\n",
       "      <td>24</td>\n",
       "      <td>poor</td>\n",
       "      <td>car</td>\n",
       "      <td>4870</td>\n",
       "      <td>&lt; 100 DM</td>\n",
       "      <td>1 - 4 years</td>\n",
       "      <td>3</td>\n",
       "      <td>4</td>\n",
       "      <td>53</td>\n",
       "      <td>none</td>\n",
       "      <td>other</td>\n",
       "      <td>2</td>\n",
       "      <td>skilled</td>\n",
       "      <td>2</td>\n",
       "      <td>yes</td>\n",
       "    </tr>\n",
       "  </tbody>\n",
       "</table>\n",
       "</div>"
      ],
      "text/plain": [
       "  checking_balance  months_loan_duration credit_history               purpose  \\\n",
       "0           < 0 DM                     6       critical  furniture/appliances   \n",
       "1       1 - 200 DM                    48           good  furniture/appliances   \n",
       "2          unknown                    12       critical             education   \n",
       "3           < 0 DM                    42           good  furniture/appliances   \n",
       "4           < 0 DM                    24           poor                   car   \n",
       "\n",
       "   amount savings_balance employment_duration  percent_of_income  \\\n",
       "0    1169         unknown           > 7 years                  4   \n",
       "1    5951        < 100 DM         1 - 4 years                  2   \n",
       "2    2096        < 100 DM         4 - 7 years                  2   \n",
       "3    7882        < 100 DM         4 - 7 years                  2   \n",
       "4    4870        < 100 DM         1 - 4 years                  3   \n",
       "\n",
       "   years_at_residence  age other_credit housing  existing_loans_count  \\\n",
       "0                   4   67         none     own                     2   \n",
       "1                   2   22         none     own                     1   \n",
       "2                   3   49         none     own                     1   \n",
       "3                   4   45         none   other                     1   \n",
       "4                   4   53         none   other                     2   \n",
       "\n",
       "         job  dependents default  \n",
       "0    skilled           1      no  \n",
       "1    skilled           1     yes  \n",
       "2  unskilled           2      no  \n",
       "3    skilled           2      no  \n",
       "4    skilled           2     yes  "
      ]
     },
     "execution_count": 68,
     "metadata": {},
     "output_type": "execute_result"
    }
   ],
   "source": [
    "data.head()"
   ]
  },
  {
   "cell_type": "code",
   "execution_count": 69,
   "metadata": {},
   "outputs": [
    {
     "data": {
      "text/html": [
       "<div>\n",
       "<style scoped>\n",
       "    .dataframe tbody tr th:only-of-type {\n",
       "        vertical-align: middle;\n",
       "    }\n",
       "\n",
       "    .dataframe tbody tr th {\n",
       "        vertical-align: top;\n",
       "    }\n",
       "\n",
       "    .dataframe thead th {\n",
       "        text-align: right;\n",
       "    }\n",
       "</style>\n",
       "<table border=\"1\" class=\"dataframe\">\n",
       "  <thead>\n",
       "    <tr style=\"text-align: right;\">\n",
       "      <th></th>\n",
       "      <th>checking_balance</th>\n",
       "      <th>months_loan_duration</th>\n",
       "      <th>credit_history</th>\n",
       "      <th>purpose</th>\n",
       "      <th>amount</th>\n",
       "      <th>savings_balance</th>\n",
       "      <th>employment_duration</th>\n",
       "      <th>percent_of_income</th>\n",
       "      <th>years_at_residence</th>\n",
       "      <th>age</th>\n",
       "      <th>other_credit</th>\n",
       "      <th>housing</th>\n",
       "      <th>existing_loans_count</th>\n",
       "      <th>job</th>\n",
       "      <th>dependents</th>\n",
       "      <th>default</th>\n",
       "    </tr>\n",
       "  </thead>\n",
       "  <tbody>\n",
       "    <tr>\n",
       "      <th>count</th>\n",
       "      <td>1000</td>\n",
       "      <td>1000.000000</td>\n",
       "      <td>1000</td>\n",
       "      <td>1000</td>\n",
       "      <td>1000.000000</td>\n",
       "      <td>1000</td>\n",
       "      <td>1000</td>\n",
       "      <td>1000.000000</td>\n",
       "      <td>1000.000000</td>\n",
       "      <td>1000.000000</td>\n",
       "      <td>1000</td>\n",
       "      <td>1000</td>\n",
       "      <td>1000.000000</td>\n",
       "      <td>1000</td>\n",
       "      <td>1000.000000</td>\n",
       "      <td>1000</td>\n",
       "    </tr>\n",
       "    <tr>\n",
       "      <th>unique</th>\n",
       "      <td>4</td>\n",
       "      <td>NaN</td>\n",
       "      <td>5</td>\n",
       "      <td>6</td>\n",
       "      <td>NaN</td>\n",
       "      <td>5</td>\n",
       "      <td>5</td>\n",
       "      <td>NaN</td>\n",
       "      <td>NaN</td>\n",
       "      <td>NaN</td>\n",
       "      <td>3</td>\n",
       "      <td>3</td>\n",
       "      <td>NaN</td>\n",
       "      <td>4</td>\n",
       "      <td>NaN</td>\n",
       "      <td>2</td>\n",
       "    </tr>\n",
       "    <tr>\n",
       "      <th>top</th>\n",
       "      <td>unknown</td>\n",
       "      <td>NaN</td>\n",
       "      <td>good</td>\n",
       "      <td>furniture/appliances</td>\n",
       "      <td>NaN</td>\n",
       "      <td>&lt; 100 DM</td>\n",
       "      <td>1 - 4 years</td>\n",
       "      <td>NaN</td>\n",
       "      <td>NaN</td>\n",
       "      <td>NaN</td>\n",
       "      <td>none</td>\n",
       "      <td>own</td>\n",
       "      <td>NaN</td>\n",
       "      <td>skilled</td>\n",
       "      <td>NaN</td>\n",
       "      <td>no</td>\n",
       "    </tr>\n",
       "    <tr>\n",
       "      <th>freq</th>\n",
       "      <td>394</td>\n",
       "      <td>NaN</td>\n",
       "      <td>530</td>\n",
       "      <td>473</td>\n",
       "      <td>NaN</td>\n",
       "      <td>603</td>\n",
       "      <td>339</td>\n",
       "      <td>NaN</td>\n",
       "      <td>NaN</td>\n",
       "      <td>NaN</td>\n",
       "      <td>814</td>\n",
       "      <td>713</td>\n",
       "      <td>NaN</td>\n",
       "      <td>630</td>\n",
       "      <td>NaN</td>\n",
       "      <td>700</td>\n",
       "    </tr>\n",
       "    <tr>\n",
       "      <th>mean</th>\n",
       "      <td>NaN</td>\n",
       "      <td>20.903000</td>\n",
       "      <td>NaN</td>\n",
       "      <td>NaN</td>\n",
       "      <td>3271.258000</td>\n",
       "      <td>NaN</td>\n",
       "      <td>NaN</td>\n",
       "      <td>2.973000</td>\n",
       "      <td>2.845000</td>\n",
       "      <td>35.546000</td>\n",
       "      <td>NaN</td>\n",
       "      <td>NaN</td>\n",
       "      <td>1.407000</td>\n",
       "      <td>NaN</td>\n",
       "      <td>1.155000</td>\n",
       "      <td>NaN</td>\n",
       "    </tr>\n",
       "    <tr>\n",
       "      <th>std</th>\n",
       "      <td>NaN</td>\n",
       "      <td>12.058814</td>\n",
       "      <td>NaN</td>\n",
       "      <td>NaN</td>\n",
       "      <td>2822.736876</td>\n",
       "      <td>NaN</td>\n",
       "      <td>NaN</td>\n",
       "      <td>1.118715</td>\n",
       "      <td>1.103718</td>\n",
       "      <td>11.375469</td>\n",
       "      <td>NaN</td>\n",
       "      <td>NaN</td>\n",
       "      <td>0.577654</td>\n",
       "      <td>NaN</td>\n",
       "      <td>0.362086</td>\n",
       "      <td>NaN</td>\n",
       "    </tr>\n",
       "    <tr>\n",
       "      <th>min</th>\n",
       "      <td>NaN</td>\n",
       "      <td>4.000000</td>\n",
       "      <td>NaN</td>\n",
       "      <td>NaN</td>\n",
       "      <td>250.000000</td>\n",
       "      <td>NaN</td>\n",
       "      <td>NaN</td>\n",
       "      <td>1.000000</td>\n",
       "      <td>1.000000</td>\n",
       "      <td>19.000000</td>\n",
       "      <td>NaN</td>\n",
       "      <td>NaN</td>\n",
       "      <td>1.000000</td>\n",
       "      <td>NaN</td>\n",
       "      <td>1.000000</td>\n",
       "      <td>NaN</td>\n",
       "    </tr>\n",
       "    <tr>\n",
       "      <th>25%</th>\n",
       "      <td>NaN</td>\n",
       "      <td>12.000000</td>\n",
       "      <td>NaN</td>\n",
       "      <td>NaN</td>\n",
       "      <td>1365.500000</td>\n",
       "      <td>NaN</td>\n",
       "      <td>NaN</td>\n",
       "      <td>2.000000</td>\n",
       "      <td>2.000000</td>\n",
       "      <td>27.000000</td>\n",
       "      <td>NaN</td>\n",
       "      <td>NaN</td>\n",
       "      <td>1.000000</td>\n",
       "      <td>NaN</td>\n",
       "      <td>1.000000</td>\n",
       "      <td>NaN</td>\n",
       "    </tr>\n",
       "    <tr>\n",
       "      <th>50%</th>\n",
       "      <td>NaN</td>\n",
       "      <td>18.000000</td>\n",
       "      <td>NaN</td>\n",
       "      <td>NaN</td>\n",
       "      <td>2319.500000</td>\n",
       "      <td>NaN</td>\n",
       "      <td>NaN</td>\n",
       "      <td>3.000000</td>\n",
       "      <td>3.000000</td>\n",
       "      <td>33.000000</td>\n",
       "      <td>NaN</td>\n",
       "      <td>NaN</td>\n",
       "      <td>1.000000</td>\n",
       "      <td>NaN</td>\n",
       "      <td>1.000000</td>\n",
       "      <td>NaN</td>\n",
       "    </tr>\n",
       "    <tr>\n",
       "      <th>75%</th>\n",
       "      <td>NaN</td>\n",
       "      <td>24.000000</td>\n",
       "      <td>NaN</td>\n",
       "      <td>NaN</td>\n",
       "      <td>3972.250000</td>\n",
       "      <td>NaN</td>\n",
       "      <td>NaN</td>\n",
       "      <td>4.000000</td>\n",
       "      <td>4.000000</td>\n",
       "      <td>42.000000</td>\n",
       "      <td>NaN</td>\n",
       "      <td>NaN</td>\n",
       "      <td>2.000000</td>\n",
       "      <td>NaN</td>\n",
       "      <td>1.000000</td>\n",
       "      <td>NaN</td>\n",
       "    </tr>\n",
       "    <tr>\n",
       "      <th>max</th>\n",
       "      <td>NaN</td>\n",
       "      <td>72.000000</td>\n",
       "      <td>NaN</td>\n",
       "      <td>NaN</td>\n",
       "      <td>18424.000000</td>\n",
       "      <td>NaN</td>\n",
       "      <td>NaN</td>\n",
       "      <td>4.000000</td>\n",
       "      <td>4.000000</td>\n",
       "      <td>75.000000</td>\n",
       "      <td>NaN</td>\n",
       "      <td>NaN</td>\n",
       "      <td>4.000000</td>\n",
       "      <td>NaN</td>\n",
       "      <td>2.000000</td>\n",
       "      <td>NaN</td>\n",
       "    </tr>\n",
       "  </tbody>\n",
       "</table>\n",
       "</div>"
      ],
      "text/plain": [
       "       checking_balance  months_loan_duration credit_history  \\\n",
       "count              1000           1000.000000           1000   \n",
       "unique                4                   NaN              5   \n",
       "top             unknown                   NaN           good   \n",
       "freq                394                   NaN            530   \n",
       "mean                NaN             20.903000            NaN   \n",
       "std                 NaN             12.058814            NaN   \n",
       "min                 NaN              4.000000            NaN   \n",
       "25%                 NaN             12.000000            NaN   \n",
       "50%                 NaN             18.000000            NaN   \n",
       "75%                 NaN             24.000000            NaN   \n",
       "max                 NaN             72.000000            NaN   \n",
       "\n",
       "                     purpose        amount savings_balance  \\\n",
       "count                   1000   1000.000000            1000   \n",
       "unique                     6           NaN               5   \n",
       "top     furniture/appliances           NaN        < 100 DM   \n",
       "freq                     473           NaN             603   \n",
       "mean                     NaN   3271.258000             NaN   \n",
       "std                      NaN   2822.736876             NaN   \n",
       "min                      NaN    250.000000             NaN   \n",
       "25%                      NaN   1365.500000             NaN   \n",
       "50%                      NaN   2319.500000             NaN   \n",
       "75%                      NaN   3972.250000             NaN   \n",
       "max                      NaN  18424.000000             NaN   \n",
       "\n",
       "       employment_duration  percent_of_income  years_at_residence  \\\n",
       "count                 1000        1000.000000         1000.000000   \n",
       "unique                   5                NaN                 NaN   \n",
       "top            1 - 4 years                NaN                 NaN   \n",
       "freq                   339                NaN                 NaN   \n",
       "mean                   NaN           2.973000            2.845000   \n",
       "std                    NaN           1.118715            1.103718   \n",
       "min                    NaN           1.000000            1.000000   \n",
       "25%                    NaN           2.000000            2.000000   \n",
       "50%                    NaN           3.000000            3.000000   \n",
       "75%                    NaN           4.000000            4.000000   \n",
       "max                    NaN           4.000000            4.000000   \n",
       "\n",
       "                age other_credit housing  existing_loans_count      job  \\\n",
       "count   1000.000000         1000    1000           1000.000000     1000   \n",
       "unique          NaN            3       3                   NaN        4   \n",
       "top             NaN         none     own                   NaN  skilled   \n",
       "freq            NaN          814     713                   NaN      630   \n",
       "mean      35.546000          NaN     NaN              1.407000      NaN   \n",
       "std       11.375469          NaN     NaN              0.577654      NaN   \n",
       "min       19.000000          NaN     NaN              1.000000      NaN   \n",
       "25%       27.000000          NaN     NaN              1.000000      NaN   \n",
       "50%       33.000000          NaN     NaN              1.000000      NaN   \n",
       "75%       42.000000          NaN     NaN              2.000000      NaN   \n",
       "max       75.000000          NaN     NaN              4.000000      NaN   \n",
       "\n",
       "         dependents default  \n",
       "count   1000.000000    1000  \n",
       "unique          NaN       2  \n",
       "top             NaN      no  \n",
       "freq            NaN     700  \n",
       "mean       1.155000     NaN  \n",
       "std        0.362086     NaN  \n",
       "min        1.000000     NaN  \n",
       "25%        1.000000     NaN  \n",
       "50%        1.000000     NaN  \n",
       "75%        1.000000     NaN  \n",
       "max        2.000000     NaN  "
      ]
     },
     "execution_count": 69,
     "metadata": {},
     "output_type": "execute_result"
    }
   ],
   "source": [
    "data.describe(include='all')"
   ]
  },
  {
   "cell_type": "code",
   "execution_count": 70,
   "metadata": {},
   "outputs": [
    {
     "data": {
      "text/plain": [
       "(1000, 16)"
      ]
     },
     "execution_count": 70,
     "metadata": {},
     "output_type": "execute_result"
    }
   ],
   "source": [
    "data.shape"
   ]
  },
  {
   "cell_type": "markdown",
   "metadata": {},
   "source": [
    "Will do further data exploring and visualization after transforming the data. For now quick glance is ok"
   ]
  },
  {
   "cell_type": "markdown",
   "metadata": {},
   "source": [
    "## Calculate accuracy on original dataset"
   ]
  },
  {
   "cell_type": "markdown",
   "metadata": {},
   "source": [
    "Calculate accuracy on dataset with minimal transformations. Will use it as starting point to track progress"
   ]
  },
  {
   "cell_type": "code",
   "execution_count": 72,
   "metadata": {
    "collapsed": true
   },
   "outputs": [],
   "source": [
    "data_bm = data"
   ]
  },
  {
   "cell_type": "markdown",
   "metadata": {},
   "source": [
    "Remove rows with empty values to train logistic regression.\n",
    "\n",
    "Let's look at unique values at each column to see what we need to change."
   ]
  },
  {
   "cell_type": "code",
   "execution_count": 73,
   "metadata": {},
   "outputs": [
    {
     "name": "stdout",
     "output_type": "stream",
     "text": [
      "checking_balance ['< 0 DM' '1 - 200 DM' 'unknown' '> 200 DM']\n",
      "months_loan_duration [ 6 48 12 42 24 36 30 15  9 10  7 60 18 45 11 27  8 54 20 14 33 21 16  4\n",
      " 47 13 22 39 28  5 26 72 40]\n",
      "credit_history ['critical' 'good' 'poor' 'perfect' 'very good']\n",
      "purpose ['furniture/appliances' 'education' 'car' 'business' 'renovations' 'car0']\n",
      "amount [ 1169  5951  2096  7882  4870  9055  2835  6948  3059  5234  1295  4308\n",
      "  1567  1199  1403  1282  2424  8072 12579  3430  2134  2647  2241  1804\n",
      "  2069  1374   426   409  2415  6836  1913  4020  5866  1264  1474  4746\n",
      "  6110  2100  1225   458  2333  1158  6204  6187  6143  1393  2299  1352\n",
      "  7228  2073  5965  1262  3378  2225   783  6468  9566  1961  6229  1391\n",
      "  1537  1953 14421  3181  5190  2171  1007  1819  2394  8133   730  1164\n",
      "  5954  1977  1526  3965  4771  9436  3832  5943  1213  1568  1755  2315\n",
      "  1412 12612  2249  1108   618  1409   797  3617  1318 15945  2012  2622\n",
      "  2337  7057  1469  2323   932  1919  2445 11938  6458  6078  7721  1410\n",
      "  1449   392  6260  7855  1680  3578  7174  2132  4281  2366  1835  3868\n",
      "  1768   781  1924  2121   701   639  1860  3499  8487  6887  2708  1984\n",
      " 10144  1240  8613   766  2728  1881   709  4795  3416  2462  2288  3566\n",
      "   860   682  5371  1582  1346  5848  7758  6967  1288   339  3512  1898\n",
      "  2872  1055  7308   909  2978  1131  1577  3972  1935   950   763  2064\n",
      "  1414  3414  7485  2577   338  1963   571  9572  4455  1647  3777   884\n",
      "  1360  5129  1175   674  3244  4591  3844  3915  2108  3031  1501  1382\n",
      "   951  2760  4297   936  1168  5117   902  1495 10623  1424  6568  1413\n",
      "  3074  3835  5293  1908  3342  3104  3913  3021  1364   625  1200   707\n",
      "  4657  2613 10961  7865  1478  3149  4210  2507  2141   866  1544  1823\n",
      " 14555  2767  1291  2522   915  1595  4605  1185  3447  1258   717  1204\n",
      "  1925   433   666  2251  2150  4151  2030  7418  2684  2149  3812  1154\n",
      "  1657  1603  5302  2748  1231   802  6304  1533  8978   999  2662  1402\n",
      " 12169  3060 11998  2697  2404  4611  1901  3368  1574  1445  1520  3878\n",
      " 10722  4788  7582  1092  1024  1076  9398  6419  4796  7629  9960  4675\n",
      "  1287  2515  2745   672  3804  1344  1038 10127  1543  4811   727  1237\n",
      "   276  5381  5511  3749   685  1494  2746   708  4351  3643  4249  1938\n",
      "  2910  2659  1028  3398  5801  1525  4473  1068  6615  1864  7408 11590\n",
      "  4110  3384  2101  1275  4169  1521  5743  3599  3213  4439  3949  1459\n",
      "   882  3758  1743  1136  1236   959  3229  6199  1246  2331  4463   776\n",
      "  2406  1239  3399  2247  1766  2473  1542  3850  3650  3446  3001  3079\n",
      "  6070  2146 13756 14782  7685  2320   846 14318   362  2212 12976  1283\n",
      "  1330  4272  2238  1126  7374  2326  1820   983  3249  1957 11760  2578\n",
      "  2348  1223  1516  1473  1887  8648  2899  2039  2197  1053  3235   939\n",
      "  1967  7253  2292  1597  1381  5842  2579  8471  2782  1042  3186  2028\n",
      "   958  1591  2762  2779  2743  1149  1313  1190  3448 11328  1872  2058\n",
      "  2136  1484   660  3394   609  1884  1620  2629   719  5096  1244  1842\n",
      "  2576  1512 11054   518  2759  2670  4817  2679  3905  3386   343  4594\n",
      "  3620  1721  3017   754  1950  2924  1659  7238  2764  4679  3092   448\n",
      "   654  1238  1245  3114  2569  5152  1037  3573  1201  3622   960  1163\n",
      "  1209  3077  3757  1418  3518  1934  8318   368  2122  2996  9034  1585\n",
      "  1301  1323  3123  5493  1216  1207  1309  2360  6850  8588   759  4686\n",
      "  2687   585  2255  1361  7127  1203   700  5507  3190  7119  3488  1113\n",
      "  7966  1532  1503  2302   662  2273  2631  1311  3105  2319  3612  7763\n",
      "  3049  1534  2032  6350  2864  1255  1333  2022  1552   626  8858   996\n",
      "  1750  6999  1995  1331  2278  5003  3552  1928  2964  1546   683 12389\n",
      "  4712  1553  1372  3979  6758  3234  5433   806  1082  2788  2930  1927\n",
      "  2820   937  1056  3124  1388  2384  2133  2799  1289  1217  2246   385\n",
      "  1965  1572  2718  1358   931  1442  4241  2775  3863  2329   918  1837\n",
      "  3349  2828  4526  2671  2051  1300   741  3357  3632  1808 12204  9157\n",
      "  3676  3441   640  3652  1530  3914  1858  2600  1979  2116  1437  4042\n",
      "  3660  1444  1980  1355  1376 15653  1493  4370   750  1308  4623  1851\n",
      "  1880  7980  4583  1386   947   684  7476  1922  2303  8086  2346  3973\n",
      "   888 10222  4221  6361  1297   900  1050  1047  6314  3496  3609  4843\n",
      "  4139  5742 10366  2080  2580  4530  5150  5595  1453  1538  2279  5103\n",
      "  9857  6527  1347  2862  2753  3651   975  2896  4716  2284  1103   926\n",
      "  1800  1905  1123  6331  1377  2503  2528  5324  6560  2969  1206  2118\n",
      "   629  1198  2476  1138 14027  7596  1505  3148  6148  1337  1228   790\n",
      "  2570   250  1316  1882  6416  6403  1987   760  2603  3380  3990 11560\n",
      "  4380  6761  4280  2325  1048  3160  2483 14179  1797  2511  1274  5248\n",
      "  3029   428   976   841  5771  1555  1285  1299  1271   691  5045  2124\n",
      "  2214 12680  2463  1155  3108  2901  1655  2812  8065  3275  2223  1480\n",
      "  1371  3535  3509  5711  3872  4933  1940   836  1941  2675  2751  6224\n",
      "  5998  1188  6313  1221  2892  3062  2301  7511  1549  1795  7472  9271\n",
      "   590   930  9283  1778   907   484  9629  3051  3931  7432  1338  1554\n",
      " 15857  1345  1101  3016  2712   731  3780  1602  3966  4165  8335  6681\n",
      "  2375 11816  5084  2327   886   601  2957  2611  5179  2993  1943  1559\n",
      "  3422  3976  1249  2235  1471 10875   894  3343  3959  3577  5804  2169\n",
      "  2439  2210  2221  2389  3331  7409   652  7678  1343   874  3590  1322\n",
      "  3595  1422  6742  7814  9277  2181  1098  4057   795  2825 15672  6614\n",
      "  7824  2442  1829  5800  8947  2606  1592  2186  4153  2625  3485 10477\n",
      "  1278  1107  3763  3711  3594  3195  4454  4736  2991  2142  3161 18424\n",
      "  2848 14896  2359  3345  1817 12749  1366  2002  6872   697  1049 10297\n",
      "  1867  1747  1670  1224   522  1498   745  2063  6288  6842  3527   929\n",
      "  1455  1845  8358  2859  3621  2145  4113 10974  1893  3656  4006  3069\n",
      "  1740  2353  3556  2397   454  1715  2520  3568  7166  3939  1514  7393\n",
      "  1193  7297  2831   753  2427  2538  8386  4844  2923  8229  1433  6289\n",
      "  6579  3565  1569  1936  2390  1736  3857   804  4576]\n",
      "savings_balance ['unknown' '< 100 DM' '500 - 1000 DM' '> 1000 DM' '100 - 500 DM']\n",
      "employment_duration ['> 7 years' '1 - 4 years' '4 - 7 years' 'unemployed' '< 1 year']\n",
      "percent_of_income [4 2 3 1]\n",
      "years_at_residence [4 2 3 1]\n",
      "age [67 22 49 45 53 35 61 28 25 24 60 32 44 31 48 26 36 39 42 34 63 27 30 57\n",
      " 33 37 58 23 29 52 50 46 51 41 40 66 47 56 54 20 21 38 70 65 74 68 43 55\n",
      " 64 75 19 62 59]\n",
      "other_credit ['none' 'bank' 'store']\n",
      "housing ['own' 'other' 'rent']\n",
      "existing_loans_count [2 1 3 4]\n",
      "job ['skilled' 'unskilled' 'management' 'unemployed']\n",
      "dependents [1 2]\n",
      "default ['no' 'yes']\n"
     ]
    }
   ],
   "source": [
    "for column in data_bm:\n",
    "    print(column, pd.unique(data_bm[column].values))"
   ]
  },
  {
   "cell_type": "markdown",
   "metadata": {},
   "source": [
    "checking_balance and savings_balance have 'unknown' value. Let's remove rows with these values"
   ]
  },
  {
   "cell_type": "code",
   "execution_count": 74,
   "metadata": {
    "collapsed": true
   },
   "outputs": [],
   "source": [
    "# Remove rows with empty values\n",
    "data_bm = data_bm[data_bm.checking_balance != 'unknown']\n",
    "data_bm = data_bm[data_bm.savings_balance != 'unknown']"
   ]
  },
  {
   "cell_type": "markdown",
   "metadata": {},
   "source": [
    "Transform categorical values to numerical to prepare them for logistic regression"
   ]
  },
  {
   "cell_type": "code",
   "execution_count": 75,
   "metadata": {
    "collapsed": true
   },
   "outputs": [],
   "source": [
    "# Transform yes/no to int\n",
    "data_bm.default = data_bm.default.map(dict(yes=1, no=0))"
   ]
  },
  {
   "cell_type": "code",
   "execution_count": 76,
   "metadata": {
    "collapsed": true
   },
   "outputs": [],
   "source": [
    "data_bm = pd.get_dummies(data_bm)"
   ]
  },
  {
   "cell_type": "code",
   "execution_count": 77,
   "metadata": {},
   "outputs": [
    {
     "data": {
      "text/html": [
       "<div>\n",
       "<style scoped>\n",
       "    .dataframe tbody tr th:only-of-type {\n",
       "        vertical-align: middle;\n",
       "    }\n",
       "\n",
       "    .dataframe tbody tr th {\n",
       "        vertical-align: top;\n",
       "    }\n",
       "\n",
       "    .dataframe thead th {\n",
       "        text-align: right;\n",
       "    }\n",
       "</style>\n",
       "<table border=\"1\" class=\"dataframe\">\n",
       "  <thead>\n",
       "    <tr style=\"text-align: right;\">\n",
       "      <th></th>\n",
       "      <th>months_loan_duration</th>\n",
       "      <th>amount</th>\n",
       "      <th>percent_of_income</th>\n",
       "      <th>years_at_residence</th>\n",
       "      <th>age</th>\n",
       "      <th>existing_loans_count</th>\n",
       "      <th>dependents</th>\n",
       "      <th>default</th>\n",
       "      <th>checking_balance_1 - 200 DM</th>\n",
       "      <th>checking_balance_&lt; 0 DM</th>\n",
       "      <th>...</th>\n",
       "      <th>other_credit_bank</th>\n",
       "      <th>other_credit_none</th>\n",
       "      <th>other_credit_store</th>\n",
       "      <th>housing_other</th>\n",
       "      <th>housing_own</th>\n",
       "      <th>housing_rent</th>\n",
       "      <th>job_management</th>\n",
       "      <th>job_skilled</th>\n",
       "      <th>job_unemployed</th>\n",
       "      <th>job_unskilled</th>\n",
       "    </tr>\n",
       "  </thead>\n",
       "  <tbody>\n",
       "    <tr>\n",
       "      <th>1</th>\n",
       "      <td>48</td>\n",
       "      <td>5951</td>\n",
       "      <td>2</td>\n",
       "      <td>2</td>\n",
       "      <td>22</td>\n",
       "      <td>1</td>\n",
       "      <td>1</td>\n",
       "      <td>1</td>\n",
       "      <td>1</td>\n",
       "      <td>0</td>\n",
       "      <td>...</td>\n",
       "      <td>0</td>\n",
       "      <td>1</td>\n",
       "      <td>0</td>\n",
       "      <td>0</td>\n",
       "      <td>1</td>\n",
       "      <td>0</td>\n",
       "      <td>0</td>\n",
       "      <td>1</td>\n",
       "      <td>0</td>\n",
       "      <td>0</td>\n",
       "    </tr>\n",
       "    <tr>\n",
       "      <th>3</th>\n",
       "      <td>42</td>\n",
       "      <td>7882</td>\n",
       "      <td>2</td>\n",
       "      <td>4</td>\n",
       "      <td>45</td>\n",
       "      <td>1</td>\n",
       "      <td>2</td>\n",
       "      <td>0</td>\n",
       "      <td>0</td>\n",
       "      <td>1</td>\n",
       "      <td>...</td>\n",
       "      <td>0</td>\n",
       "      <td>1</td>\n",
       "      <td>0</td>\n",
       "      <td>1</td>\n",
       "      <td>0</td>\n",
       "      <td>0</td>\n",
       "      <td>0</td>\n",
       "      <td>1</td>\n",
       "      <td>0</td>\n",
       "      <td>0</td>\n",
       "    </tr>\n",
       "    <tr>\n",
       "      <th>4</th>\n",
       "      <td>24</td>\n",
       "      <td>4870</td>\n",
       "      <td>3</td>\n",
       "      <td>4</td>\n",
       "      <td>53</td>\n",
       "      <td>2</td>\n",
       "      <td>2</td>\n",
       "      <td>1</td>\n",
       "      <td>0</td>\n",
       "      <td>1</td>\n",
       "      <td>...</td>\n",
       "      <td>0</td>\n",
       "      <td>1</td>\n",
       "      <td>0</td>\n",
       "      <td>1</td>\n",
       "      <td>0</td>\n",
       "      <td>0</td>\n",
       "      <td>0</td>\n",
       "      <td>1</td>\n",
       "      <td>0</td>\n",
       "      <td>0</td>\n",
       "    </tr>\n",
       "    <tr>\n",
       "      <th>7</th>\n",
       "      <td>36</td>\n",
       "      <td>6948</td>\n",
       "      <td>2</td>\n",
       "      <td>2</td>\n",
       "      <td>35</td>\n",
       "      <td>1</td>\n",
       "      <td>1</td>\n",
       "      <td>0</td>\n",
       "      <td>1</td>\n",
       "      <td>0</td>\n",
       "      <td>...</td>\n",
       "      <td>0</td>\n",
       "      <td>1</td>\n",
       "      <td>0</td>\n",
       "      <td>0</td>\n",
       "      <td>0</td>\n",
       "      <td>1</td>\n",
       "      <td>1</td>\n",
       "      <td>0</td>\n",
       "      <td>0</td>\n",
       "      <td>0</td>\n",
       "    </tr>\n",
       "    <tr>\n",
       "      <th>9</th>\n",
       "      <td>30</td>\n",
       "      <td>5234</td>\n",
       "      <td>4</td>\n",
       "      <td>2</td>\n",
       "      <td>28</td>\n",
       "      <td>2</td>\n",
       "      <td>1</td>\n",
       "      <td>1</td>\n",
       "      <td>1</td>\n",
       "      <td>0</td>\n",
       "      <td>...</td>\n",
       "      <td>0</td>\n",
       "      <td>1</td>\n",
       "      <td>0</td>\n",
       "      <td>0</td>\n",
       "      <td>1</td>\n",
       "      <td>0</td>\n",
       "      <td>1</td>\n",
       "      <td>0</td>\n",
       "      <td>0</td>\n",
       "      <td>0</td>\n",
       "    </tr>\n",
       "  </tbody>\n",
       "</table>\n",
       "<p>5 rows × 41 columns</p>\n",
       "</div>"
      ],
      "text/plain": [
       "   months_loan_duration  amount  percent_of_income  years_at_residence  age  \\\n",
       "1                    48    5951                  2                   2   22   \n",
       "3                    42    7882                  2                   4   45   \n",
       "4                    24    4870                  3                   4   53   \n",
       "7                    36    6948                  2                   2   35   \n",
       "9                    30    5234                  4                   2   28   \n",
       "\n",
       "   existing_loans_count  dependents  default  checking_balance_1 - 200 DM  \\\n",
       "1                     1           1        1                            1   \n",
       "3                     1           2        0                            0   \n",
       "4                     2           2        1                            0   \n",
       "7                     1           1        0                            1   \n",
       "9                     2           1        1                            1   \n",
       "\n",
       "   checking_balance_< 0 DM      ...        other_credit_bank  \\\n",
       "1                        0      ...                        0   \n",
       "3                        1      ...                        0   \n",
       "4                        1      ...                        0   \n",
       "7                        0      ...                        0   \n",
       "9                        0      ...                        0   \n",
       "\n",
       "   other_credit_none  other_credit_store  housing_other  housing_own  \\\n",
       "1                  1                   0              0            1   \n",
       "3                  1                   0              1            0   \n",
       "4                  1                   0              1            0   \n",
       "7                  1                   0              0            0   \n",
       "9                  1                   0              0            1   \n",
       "\n",
       "   housing_rent  job_management  job_skilled  job_unemployed  job_unskilled  \n",
       "1             0               0            1               0              0  \n",
       "3             0               0            1               0              0  \n",
       "4             0               0            1               0              0  \n",
       "7             1               1            0               0              0  \n",
       "9             0               1            0               0              0  \n",
       "\n",
       "[5 rows x 41 columns]"
      ]
     },
     "execution_count": 77,
     "metadata": {},
     "output_type": "execute_result"
    }
   ],
   "source": [
    "data_bm.head()"
   ]
  },
  {
   "cell_type": "code",
   "execution_count": 78,
   "metadata": {},
   "outputs": [
    {
     "data": {
      "text/plain": [
       "(522, 41)"
      ]
     },
     "execution_count": 78,
     "metadata": {},
     "output_type": "execute_result"
    }
   ],
   "source": [
    "data_bm.shape"
   ]
  },
  {
   "cell_type": "markdown",
   "metadata": {},
   "source": [
    "Shuffle the data  \n",
    "Then break up into train and test. We don't need cross validation for now because we only train and calc accuracy."
   ]
  },
  {
   "cell_type": "code",
   "execution_count": 82,
   "metadata": {},
   "outputs": [
    {
     "name": "stdout",
     "output_type": "stream",
     "text": [
      "Time:  0.004779936993145384\n",
      "Train accuracy:  0.6810551558752997\n",
      "Test accuracy:  0.6476190476190476\n"
     ]
    },
    {
     "name": "stderr",
     "output_type": "stream",
     "text": [
      "/anaconda3/lib/python3.5/site-packages/sklearn/linear_model/logistic.py:433: FutureWarning: Default solver will be changed to 'lbfgs' in 0.22. Specify a solver to silence this warning.\n",
      "  FutureWarning)\n",
      "/anaconda3/lib/python3.5/site-packages/sklearn/utils/validation.py:761: DataConversionWarning: A column-vector y was passed when a 1d array was expected. Please change the shape of y to (n_samples, ), for example using ravel().\n",
      "  y = column_or_1d(y, warn=True)\n"
     ]
    }
   ],
   "source": [
    "data_bm = data_bm.sample(frac=1)\n",
    "msk = np.random.rand(len(data_bm)) < 0.8\n",
    "\n",
    "train_bm = data_bm[msk]\n",
    "test_bm = data_bm[~msk]\n",
    "\n",
    "train_bm_labels = train_bm[['default']].copy()\n",
    "test_bm_labels = test_bm[['default']].copy()\n",
    "\n",
    "train_bm = train_bm.drop('default', axis=1)\n",
    "test_bm = test_bm.drop('default', axis=1)\n",
    "\n",
    "start = timeit.default_timer()\n",
    "\n",
    "reg_bm = linear_model.LogisticRegression(C=1e5)\n",
    "reg_bm.fit(train_bm, train_bm_labels)\n",
    "\n",
    "stop = timeit.default_timer()\n",
    "\n",
    "print('Time: ', stop - start)\n",
    "print('Train accuracy: ', reg_bm.score(train_bm, train_bm_labels))\n",
    "print('Test accuracy: ', reg_bm.score(test_bm, test_bm_labels))"
   ]
  },
  {
   "cell_type": "markdown",
   "metadata": {},
   "source": [
    "Test accuracy:  0.6476190476190476  \n",
    "Save this value to track the progress "
   ]
  },
  {
   "cell_type": "markdown",
   "metadata": {},
   "source": [
    "## Process the data"
   ]
  },
  {
   "cell_type": "markdown",
   "metadata": {},
   "source": [
    "Remove minor error in data 'car0' => 'car'"
   ]
  },
  {
   "cell_type": "code",
   "execution_count": 84,
   "metadata": {
    "collapsed": true
   },
   "outputs": [],
   "source": [
    "data.purpose.replace(['car0'], ['car'], inplace=True)"
   ]
  },
  {
   "cell_type": "markdown",
   "metadata": {},
   "source": [
    "Rename columns to make them more clear"
   ]
  },
  {
   "cell_type": "code",
   "execution_count": 89,
   "metadata": {
    "collapsed": true
   },
   "outputs": [],
   "source": [
    "# Rename the columns to make them more clear\n",
    "data = data.rename(index=str, columns={\"default\": \"decision\", \"checking_balance\": \"account_balance\", \"amount\": \"requested_amount\"})"
   ]
  },
  {
   "cell_type": "markdown",
   "metadata": {},
   "source": [
    "Find purpose categorical mode"
   ]
  },
  {
   "cell_type": "code",
   "execution_count": 86,
   "metadata": {},
   "outputs": [
    {
     "name": "stdout",
     "output_type": "stream",
     "text": [
      "The most popular purpose is:  furniture/appliances\n"
     ]
    }
   ],
   "source": [
    "# Find the most popular purpose\n",
    "print(\"The most popular purpose is: \", data.purpose.mode()[0])"
   ]
  },
  {
   "cell_type": "code",
   "execution_count": 90,
   "metadata": {},
   "outputs": [
    {
     "data": {
      "text/html": [
       "<div>\n",
       "<style scoped>\n",
       "    .dataframe tbody tr th:only-of-type {\n",
       "        vertical-align: middle;\n",
       "    }\n",
       "\n",
       "    .dataframe tbody tr th {\n",
       "        vertical-align: top;\n",
       "    }\n",
       "\n",
       "    .dataframe thead th {\n",
       "        text-align: right;\n",
       "    }\n",
       "</style>\n",
       "<table border=\"1\" class=\"dataframe\">\n",
       "  <thead>\n",
       "    <tr style=\"text-align: right;\">\n",
       "      <th></th>\n",
       "      <th>account_balance</th>\n",
       "      <th>months_loan_duration</th>\n",
       "      <th>credit_history</th>\n",
       "      <th>purpose</th>\n",
       "      <th>requested_amount</th>\n",
       "      <th>savings_balance</th>\n",
       "      <th>employment_duration</th>\n",
       "      <th>percent_of_income</th>\n",
       "      <th>years_at_residence</th>\n",
       "      <th>age</th>\n",
       "      <th>other_credit</th>\n",
       "      <th>housing</th>\n",
       "      <th>existing_loans_count</th>\n",
       "      <th>job</th>\n",
       "      <th>dependents</th>\n",
       "      <th>decision</th>\n",
       "    </tr>\n",
       "  </thead>\n",
       "  <tbody>\n",
       "    <tr>\n",
       "      <th>0</th>\n",
       "      <td>&lt; 0 DM</td>\n",
       "      <td>6</td>\n",
       "      <td>critical</td>\n",
       "      <td>furniture/appliances</td>\n",
       "      <td>1169</td>\n",
       "      <td>NaN</td>\n",
       "      <td>&gt; 7 years</td>\n",
       "      <td>4</td>\n",
       "      <td>4</td>\n",
       "      <td>67</td>\n",
       "      <td>none</td>\n",
       "      <td>own</td>\n",
       "      <td>2</td>\n",
       "      <td>skilled</td>\n",
       "      <td>1</td>\n",
       "      <td>no</td>\n",
       "    </tr>\n",
       "    <tr>\n",
       "      <th>1</th>\n",
       "      <td>1 - 200 DM</td>\n",
       "      <td>48</td>\n",
       "      <td>good</td>\n",
       "      <td>furniture/appliances</td>\n",
       "      <td>5951</td>\n",
       "      <td>&lt; 100 DM</td>\n",
       "      <td>1 - 4 years</td>\n",
       "      <td>2</td>\n",
       "      <td>2</td>\n",
       "      <td>22</td>\n",
       "      <td>none</td>\n",
       "      <td>own</td>\n",
       "      <td>1</td>\n",
       "      <td>skilled</td>\n",
       "      <td>1</td>\n",
       "      <td>yes</td>\n",
       "    </tr>\n",
       "    <tr>\n",
       "      <th>2</th>\n",
       "      <td>NaN</td>\n",
       "      <td>12</td>\n",
       "      <td>critical</td>\n",
       "      <td>education</td>\n",
       "      <td>2096</td>\n",
       "      <td>&lt; 100 DM</td>\n",
       "      <td>4 - 7 years</td>\n",
       "      <td>2</td>\n",
       "      <td>3</td>\n",
       "      <td>49</td>\n",
       "      <td>none</td>\n",
       "      <td>own</td>\n",
       "      <td>1</td>\n",
       "      <td>unskilled</td>\n",
       "      <td>2</td>\n",
       "      <td>no</td>\n",
       "    </tr>\n",
       "    <tr>\n",
       "      <th>3</th>\n",
       "      <td>&lt; 0 DM</td>\n",
       "      <td>42</td>\n",
       "      <td>good</td>\n",
       "      <td>furniture/appliances</td>\n",
       "      <td>7882</td>\n",
       "      <td>&lt; 100 DM</td>\n",
       "      <td>4 - 7 years</td>\n",
       "      <td>2</td>\n",
       "      <td>4</td>\n",
       "      <td>45</td>\n",
       "      <td>none</td>\n",
       "      <td>other</td>\n",
       "      <td>1</td>\n",
       "      <td>skilled</td>\n",
       "      <td>2</td>\n",
       "      <td>no</td>\n",
       "    </tr>\n",
       "    <tr>\n",
       "      <th>4</th>\n",
       "      <td>&lt; 0 DM</td>\n",
       "      <td>24</td>\n",
       "      <td>poor</td>\n",
       "      <td>car</td>\n",
       "      <td>4870</td>\n",
       "      <td>&lt; 100 DM</td>\n",
       "      <td>1 - 4 years</td>\n",
       "      <td>3</td>\n",
       "      <td>4</td>\n",
       "      <td>53</td>\n",
       "      <td>none</td>\n",
       "      <td>other</td>\n",
       "      <td>2</td>\n",
       "      <td>skilled</td>\n",
       "      <td>2</td>\n",
       "      <td>yes</td>\n",
       "    </tr>\n",
       "  </tbody>\n",
       "</table>\n",
       "</div>"
      ],
      "text/plain": [
       "  account_balance  months_loan_duration credit_history               purpose  \\\n",
       "0          < 0 DM                     6       critical  furniture/appliances   \n",
       "1      1 - 200 DM                    48           good  furniture/appliances   \n",
       "2             NaN                    12       critical             education   \n",
       "3          < 0 DM                    42           good  furniture/appliances   \n",
       "4          < 0 DM                    24           poor                   car   \n",
       "\n",
       "   requested_amount savings_balance employment_duration  percent_of_income  \\\n",
       "0              1169             NaN           > 7 years                  4   \n",
       "1              5951        < 100 DM         1 - 4 years                  2   \n",
       "2              2096        < 100 DM         4 - 7 years                  2   \n",
       "3              7882        < 100 DM         4 - 7 years                  2   \n",
       "4              4870        < 100 DM         1 - 4 years                  3   \n",
       "\n",
       "   years_at_residence  age other_credit housing  existing_loans_count  \\\n",
       "0                   4   67         none     own                     2   \n",
       "1                   2   22         none     own                     1   \n",
       "2                   3   49         none     own                     1   \n",
       "3                   4   45         none   other                     1   \n",
       "4                   4   53         none   other                     2   \n",
       "\n",
       "         job  dependents decision  \n",
       "0    skilled           1       no  \n",
       "1    skilled           1      yes  \n",
       "2  unskilled           2       no  \n",
       "3    skilled           2       no  \n",
       "4    skilled           2      yes  "
      ]
     },
     "execution_count": 90,
     "metadata": {},
     "output_type": "execute_result"
    }
   ],
   "source": [
    "data.head()"
   ]
  },
  {
   "cell_type": "markdown",
   "metadata": {},
   "source": [
    "Replace categorical values with column mode"
   ]
  },
  {
   "cell_type": "code",
   "execution_count": 91,
   "metadata": {
    "collapsed": true
   },
   "outputs": [],
   "source": [
    "# Replace categorical missing values with mode\n",
    "data.replace('unknown', np.nan, inplace = True)\n",
    "data = data.fillna(value={'account_balance': data.account_balance.mode()[0], 'savings_balance': data.savings_balance.mode()[0]})"
   ]
  },
  {
   "cell_type": "code",
   "execution_count": 26,
   "metadata": {},
   "outputs": [
    {
     "name": "stdout",
     "output_type": "stream",
     "text": [
      "account_balance ['< 0 DM' '1 - 200 DM' '> 200 DM']\n",
      "months_loan_duration [ 6 48 12 42 24 36 30 15  9 10  7 60 18 45 11 27  8 54 20 14 33 21 16  4\n",
      " 47 13 22 39 28  5 26 72 40]\n",
      "credit_history ['critical' 'good' 'poor' 'perfect' 'very good']\n",
      "purpose ['furniture/appliances' 'education' 'car' 'business' 'renovations']\n",
      "requested_amount [ 1169  5951  2096  7882  4870  9055  2835  6948  3059  5234  1295  4308\n",
      "  1567  1199  1403  1282  2424  8072 12579  3430  2134  2647  2241  1804\n",
      "  2069  1374   426   409  2415  6836  1913  4020  5866  1264  1474  4746\n",
      "  6110  2100  1225   458  2333  1158  6204  6187  6143  1393  2299  1352\n",
      "  7228  2073  5965  1262  3378  2225   783  6468  9566  1961  6229  1391\n",
      "  1537  1953 14421  3181  5190  2171  1007  1819  2394  8133   730  1164\n",
      "  5954  1977  1526  3965  4771  9436  3832  5943  1213  1568  1755  2315\n",
      "  1412 12612  2249  1108   618  1409   797  3617  1318 15945  2012  2622\n",
      "  2337  7057  1469  2323   932  1919  2445 11938  6458  6078  7721  1410\n",
      "  1449   392  6260  7855  1680  3578  7174  2132  4281  2366  1835  3868\n",
      "  1768   781  1924  2121   701   639  1860  3499  8487  6887  2708  1984\n",
      " 10144  1240  8613   766  2728  1881   709  4795  3416  2462  2288  3566\n",
      "   860   682  5371  1582  1346  5848  7758  6967  1288   339  3512  1898\n",
      "  2872  1055  7308   909  2978  1131  1577  3972  1935   950   763  2064\n",
      "  1414  3414  7485  2577   338  1963   571  9572  4455  1647  3777   884\n",
      "  1360  5129  1175   674  3244  4591  3844  3915  2108  3031  1501  1382\n",
      "   951  2760  4297   936  1168  5117   902  1495 10623  1424  6568  1413\n",
      "  3074  3835  5293  1908  3342  3104  3913  3021  1364   625  1200   707\n",
      "  4657  2613 10961  7865  1478  3149  4210  2507  2141   866  1544  1823\n",
      " 14555  2767  1291  2522   915  1595  4605  1185  3447  1258   717  1204\n",
      "  1925   433   666  2251  2150  4151  2030  7418  2684  2149  3812  1154\n",
      "  1657  1603  5302  2748  1231   802  6304  1533  8978   999  2662  1402\n",
      " 12169  3060 11998  2697  2404  4611  1901  3368  1574  1445  1520  3878\n",
      " 10722  4788  7582  1092  1024  1076  9398  6419  4796  7629  9960  4675\n",
      "  1287  2515  2745   672  3804  1344  1038 10127  1543  4811   727  1237\n",
      "   276  5381  5511  3749   685  1494  2746   708  4351  3643  4249  1938\n",
      "  2910  2659  1028  3398  5801  1525  4473  1068  6615  1864  7408 11590\n",
      "  4110  3384  2101  1275  4169  1521  5743  3599  3213  4439  3949  1459\n",
      "   882  3758  1743  1136  1236   959  3229  6199  1246  2331  4463   776\n",
      "  2406  1239  3399  2247  1766  2473  1542  3850  3650  3446  3001  3079\n",
      "  6070  2146 13756 14782  7685  2320   846 14318   362  2212 12976  1283\n",
      "  1330  4272  2238  1126  7374  2326  1820   983  3249  1957 11760  2578\n",
      "  2348  1223  1516  1473  1887  8648  2899  2039  2197  1053  3235   939\n",
      "  1967  7253  2292  1597  1381  5842  2579  8471  2782  1042  3186  2028\n",
      "   958  1591  2762  2779  2743  1149  1313  1190  3448 11328  1872  2058\n",
      "  2136  1484   660  3394   609  1884  1620  2629   719  5096  1244  1842\n",
      "  2576  1512 11054   518  2759  2670  4817  2679  3905  3386   343  4594\n",
      "  3620  1721  3017   754  1950  2924  1659  7238  2764  4679  3092   448\n",
      "   654  1238  1245  3114  2569  5152  1037  3573  1201  3622   960  1163\n",
      "  1209  3077  3757  1418  3518  1934  8318   368  2122  2996  9034  1585\n",
      "  1301  1323  3123  5493  1216  1207  1309  2360  6850  8588   759  4686\n",
      "  2687   585  2255  1361  7127  1203   700  5507  3190  7119  3488  1113\n",
      "  7966  1532  1503  2302   662  2273  2631  1311  3105  2319  3612  7763\n",
      "  3049  1534  2032  6350  2864  1255  1333  2022  1552   626  8858   996\n",
      "  1750  6999  1995  1331  2278  5003  3552  1928  2964  1546   683 12389\n",
      "  4712  1553  1372  3979  6758  3234  5433   806  1082  2788  2930  1927\n",
      "  2820   937  1056  3124  1388  2384  2133  2799  1289  1217  2246   385\n",
      "  1965  1572  2718  1358   931  1442  4241  2775  3863  2329   918  1837\n",
      "  3349  2828  4526  2671  2051  1300   741  3357  3632  1808 12204  9157\n",
      "  3676  3441   640  3652  1530  3914  1858  2600  1979  2116  1437  4042\n",
      "  3660  1444  1980  1355  1376 15653  1493  4370   750  1308  4623  1851\n",
      "  1880  7980  4583  1386   947   684  7476  1922  2303  8086  2346  3973\n",
      "   888 10222  4221  6361  1297   900  1050  1047  6314  3496  3609  4843\n",
      "  4139  5742 10366  2080  2580  4530  5150  5595  1453  1538  2279  5103\n",
      "  9857  6527  1347  2862  2753  3651   975  2896  4716  2284  1103   926\n",
      "  1800  1905  1123  6331  1377  2503  2528  5324  6560  2969  1206  2118\n",
      "   629  1198  2476  1138 14027  7596  1505  3148  6148  1337  1228   790\n",
      "  2570   250  1316  1882  6416  6403  1987   760  2603  3380  3990 11560\n",
      "  4380  6761  4280  2325  1048  3160  2483 14179  1797  2511  1274  5248\n",
      "  3029   428   976   841  5771  1555  1285  1299  1271   691  5045  2124\n",
      "  2214 12680  2463  1155  3108  2901  1655  2812  8065  3275  2223  1480\n",
      "  1371  3535  3509  5711  3872  4933  1940   836  1941  2675  2751  6224\n",
      "  5998  1188  6313  1221  2892  3062  2301  7511  1549  1795  7472  9271\n",
      "   590   930  9283  1778   907   484  9629  3051  3931  7432  1338  1554\n",
      " 15857  1345  1101  3016  2712   731  3780  1602  3966  4165  8335  6681\n",
      "  2375 11816  5084  2327   886   601  2957  2611  5179  2993  1943  1559\n",
      "  3422  3976  1249  2235  1471 10875   894  3343  3959  3577  5804  2169\n",
      "  2439  2210  2221  2389  3331  7409   652  7678  1343   874  3590  1322\n",
      "  3595  1422  6742  7814  9277  2181  1098  4057   795  2825 15672  6614\n",
      "  7824  2442  1829  5800  8947  2606  1592  2186  4153  2625  3485 10477\n",
      "  1278  1107  3763  3711  3594  3195  4454  4736  2991  2142  3161 18424\n",
      "  2848 14896  2359  3345  1817 12749  1366  2002  6872   697  1049 10297\n",
      "  1867  1747  1670  1224   522  1498   745  2063  6288  6842  3527   929\n",
      "  1455  1845  8358  2859  3621  2145  4113 10974  1893  3656  4006  3069\n",
      "  1740  2353  3556  2397   454  1715  2520  3568  7166  3939  1514  7393\n",
      "  1193  7297  2831   753  2427  2538  8386  4844  2923  8229  1433  6289\n",
      "  6579  3565  1569  1936  2390  1736  3857   804  4576]\n",
      "savings_balance ['< 100 DM' '500 - 1000 DM' '> 1000 DM' '100 - 500 DM']\n",
      "employment_duration ['> 7 years' '1 - 4 years' '4 - 7 years' 'unemployed' '< 1 year']\n",
      "percent_of_income [4 2 3 1]\n",
      "years_at_residence [4 2 3 1]\n",
      "age [67 22 49 45 53 35 61 28 25 24 60 32 44 31 48 26 36 39 42 34 63 27 30 57\n",
      " 33 37 58 23 29 52 50 46 51 41 40 66 47 56 54 20 21 38 70 65 74 68 43 55\n",
      " 64 75 19 62 59]\n",
      "other_credit ['none' 'bank' 'store']\n",
      "housing ['own' 'other' 'rent']\n",
      "existing_loans_count [2 1 3 4]\n",
      "job ['skilled' 'unskilled' 'management' 'unemployed']\n",
      "dependents [1 2]\n",
      "decision ['no' 'yes']\n"
     ]
    }
   ],
   "source": [
    "for column in data:\n",
    "    print(column, pd.unique(data[column].values))"
   ]
  },
  {
   "cell_type": "code",
   "execution_count": 92,
   "metadata": {},
   "outputs": [
    {
     "data": {
      "text/html": [
       "<div>\n",
       "<style scoped>\n",
       "    .dataframe tbody tr th:only-of-type {\n",
       "        vertical-align: middle;\n",
       "    }\n",
       "\n",
       "    .dataframe tbody tr th {\n",
       "        vertical-align: top;\n",
       "    }\n",
       "\n",
       "    .dataframe thead th {\n",
       "        text-align: right;\n",
       "    }\n",
       "</style>\n",
       "<table border=\"1\" class=\"dataframe\">\n",
       "  <thead>\n",
       "    <tr style=\"text-align: right;\">\n",
       "      <th></th>\n",
       "      <th>account_balance</th>\n",
       "      <th>months_loan_duration</th>\n",
       "      <th>credit_history</th>\n",
       "      <th>purpose</th>\n",
       "      <th>requested_amount</th>\n",
       "      <th>savings_balance</th>\n",
       "      <th>employment_duration</th>\n",
       "      <th>percent_of_income</th>\n",
       "      <th>years_at_residence</th>\n",
       "      <th>age</th>\n",
       "      <th>other_credit</th>\n",
       "      <th>housing</th>\n",
       "      <th>existing_loans_count</th>\n",
       "      <th>job</th>\n",
       "      <th>dependents</th>\n",
       "      <th>decision</th>\n",
       "    </tr>\n",
       "  </thead>\n",
       "  <tbody>\n",
       "    <tr>\n",
       "      <th>0</th>\n",
       "      <td>&lt; 0 DM</td>\n",
       "      <td>6</td>\n",
       "      <td>critical</td>\n",
       "      <td>furniture/appliances</td>\n",
       "      <td>1169</td>\n",
       "      <td>&lt; 100 DM</td>\n",
       "      <td>&gt; 7 years</td>\n",
       "      <td>4</td>\n",
       "      <td>4</td>\n",
       "      <td>67</td>\n",
       "      <td>none</td>\n",
       "      <td>own</td>\n",
       "      <td>2</td>\n",
       "      <td>skilled</td>\n",
       "      <td>1</td>\n",
       "      <td>no</td>\n",
       "    </tr>\n",
       "    <tr>\n",
       "      <th>1</th>\n",
       "      <td>1 - 200 DM</td>\n",
       "      <td>48</td>\n",
       "      <td>good</td>\n",
       "      <td>furniture/appliances</td>\n",
       "      <td>5951</td>\n",
       "      <td>&lt; 100 DM</td>\n",
       "      <td>1 - 4 years</td>\n",
       "      <td>2</td>\n",
       "      <td>2</td>\n",
       "      <td>22</td>\n",
       "      <td>none</td>\n",
       "      <td>own</td>\n",
       "      <td>1</td>\n",
       "      <td>skilled</td>\n",
       "      <td>1</td>\n",
       "      <td>yes</td>\n",
       "    </tr>\n",
       "    <tr>\n",
       "      <th>2</th>\n",
       "      <td>&lt; 0 DM</td>\n",
       "      <td>12</td>\n",
       "      <td>critical</td>\n",
       "      <td>education</td>\n",
       "      <td>2096</td>\n",
       "      <td>&lt; 100 DM</td>\n",
       "      <td>4 - 7 years</td>\n",
       "      <td>2</td>\n",
       "      <td>3</td>\n",
       "      <td>49</td>\n",
       "      <td>none</td>\n",
       "      <td>own</td>\n",
       "      <td>1</td>\n",
       "      <td>unskilled</td>\n",
       "      <td>2</td>\n",
       "      <td>no</td>\n",
       "    </tr>\n",
       "    <tr>\n",
       "      <th>3</th>\n",
       "      <td>&lt; 0 DM</td>\n",
       "      <td>42</td>\n",
       "      <td>good</td>\n",
       "      <td>furniture/appliances</td>\n",
       "      <td>7882</td>\n",
       "      <td>&lt; 100 DM</td>\n",
       "      <td>4 - 7 years</td>\n",
       "      <td>2</td>\n",
       "      <td>4</td>\n",
       "      <td>45</td>\n",
       "      <td>none</td>\n",
       "      <td>other</td>\n",
       "      <td>1</td>\n",
       "      <td>skilled</td>\n",
       "      <td>2</td>\n",
       "      <td>no</td>\n",
       "    </tr>\n",
       "    <tr>\n",
       "      <th>4</th>\n",
       "      <td>&lt; 0 DM</td>\n",
       "      <td>24</td>\n",
       "      <td>poor</td>\n",
       "      <td>car</td>\n",
       "      <td>4870</td>\n",
       "      <td>&lt; 100 DM</td>\n",
       "      <td>1 - 4 years</td>\n",
       "      <td>3</td>\n",
       "      <td>4</td>\n",
       "      <td>53</td>\n",
       "      <td>none</td>\n",
       "      <td>other</td>\n",
       "      <td>2</td>\n",
       "      <td>skilled</td>\n",
       "      <td>2</td>\n",
       "      <td>yes</td>\n",
       "    </tr>\n",
       "  </tbody>\n",
       "</table>\n",
       "</div>"
      ],
      "text/plain": [
       "  account_balance  months_loan_duration credit_history               purpose  \\\n",
       "0          < 0 DM                     6       critical  furniture/appliances   \n",
       "1      1 - 200 DM                    48           good  furniture/appliances   \n",
       "2          < 0 DM                    12       critical             education   \n",
       "3          < 0 DM                    42           good  furniture/appliances   \n",
       "4          < 0 DM                    24           poor                   car   \n",
       "\n",
       "   requested_amount savings_balance employment_duration  percent_of_income  \\\n",
       "0              1169        < 100 DM           > 7 years                  4   \n",
       "1              5951        < 100 DM         1 - 4 years                  2   \n",
       "2              2096        < 100 DM         4 - 7 years                  2   \n",
       "3              7882        < 100 DM         4 - 7 years                  2   \n",
       "4              4870        < 100 DM         1 - 4 years                  3   \n",
       "\n",
       "   years_at_residence  age other_credit housing  existing_loans_count  \\\n",
       "0                   4   67         none     own                     2   \n",
       "1                   2   22         none     own                     1   \n",
       "2                   3   49         none     own                     1   \n",
       "3                   4   45         none   other                     1   \n",
       "4                   4   53         none   other                     2   \n",
       "\n",
       "         job  dependents decision  \n",
       "0    skilled           1       no  \n",
       "1    skilled           1      yes  \n",
       "2  unskilled           2       no  \n",
       "3    skilled           2       no  \n",
       "4    skilled           2      yes  "
      ]
     },
     "execution_count": 92,
     "metadata": {},
     "output_type": "execute_result"
    }
   ],
   "source": [
    "data.head()"
   ]
  },
  {
   "cell_type": "markdown",
   "metadata": {},
   "source": [
    "Transform categorical values to numerical"
   ]
  },
  {
   "cell_type": "code",
   "execution_count": 93,
   "metadata": {
    "collapsed": true
   },
   "outputs": [],
   "source": [
    "# Transform yes/no to int\n",
    "data.decision = data.decision.map(dict(yes=1, no=0))"
   ]
  },
  {
   "cell_type": "code",
   "execution_count": 94,
   "metadata": {
    "collapsed": true
   },
   "outputs": [],
   "source": [
    "data_dummies = pd.get_dummies(data)"
   ]
  },
  {
   "cell_type": "code",
   "execution_count": 95,
   "metadata": {},
   "outputs": [
    {
     "data": {
      "text/html": [
       "<div>\n",
       "<style scoped>\n",
       "    .dataframe tbody tr th:only-of-type {\n",
       "        vertical-align: middle;\n",
       "    }\n",
       "\n",
       "    .dataframe tbody tr th {\n",
       "        vertical-align: top;\n",
       "    }\n",
       "\n",
       "    .dataframe thead th {\n",
       "        text-align: right;\n",
       "    }\n",
       "</style>\n",
       "<table border=\"1\" class=\"dataframe\">\n",
       "  <thead>\n",
       "    <tr style=\"text-align: right;\">\n",
       "      <th></th>\n",
       "      <th>months_loan_duration</th>\n",
       "      <th>requested_amount</th>\n",
       "      <th>percent_of_income</th>\n",
       "      <th>years_at_residence</th>\n",
       "      <th>age</th>\n",
       "      <th>existing_loans_count</th>\n",
       "      <th>dependents</th>\n",
       "      <th>decision</th>\n",
       "      <th>account_balance_1 - 200 DM</th>\n",
       "      <th>account_balance_&lt; 0 DM</th>\n",
       "      <th>...</th>\n",
       "      <th>other_credit_bank</th>\n",
       "      <th>other_credit_none</th>\n",
       "      <th>other_credit_store</th>\n",
       "      <th>housing_other</th>\n",
       "      <th>housing_own</th>\n",
       "      <th>housing_rent</th>\n",
       "      <th>job_management</th>\n",
       "      <th>job_skilled</th>\n",
       "      <th>job_unemployed</th>\n",
       "      <th>job_unskilled</th>\n",
       "    </tr>\n",
       "  </thead>\n",
       "  <tbody>\n",
       "    <tr>\n",
       "      <th>0</th>\n",
       "      <td>6</td>\n",
       "      <td>1169</td>\n",
       "      <td>4</td>\n",
       "      <td>4</td>\n",
       "      <td>67</td>\n",
       "      <td>2</td>\n",
       "      <td>1</td>\n",
       "      <td>0</td>\n",
       "      <td>0</td>\n",
       "      <td>1</td>\n",
       "      <td>...</td>\n",
       "      <td>0</td>\n",
       "      <td>1</td>\n",
       "      <td>0</td>\n",
       "      <td>0</td>\n",
       "      <td>1</td>\n",
       "      <td>0</td>\n",
       "      <td>0</td>\n",
       "      <td>1</td>\n",
       "      <td>0</td>\n",
       "      <td>0</td>\n",
       "    </tr>\n",
       "    <tr>\n",
       "      <th>1</th>\n",
       "      <td>48</td>\n",
       "      <td>5951</td>\n",
       "      <td>2</td>\n",
       "      <td>2</td>\n",
       "      <td>22</td>\n",
       "      <td>1</td>\n",
       "      <td>1</td>\n",
       "      <td>1</td>\n",
       "      <td>1</td>\n",
       "      <td>0</td>\n",
       "      <td>...</td>\n",
       "      <td>0</td>\n",
       "      <td>1</td>\n",
       "      <td>0</td>\n",
       "      <td>0</td>\n",
       "      <td>1</td>\n",
       "      <td>0</td>\n",
       "      <td>0</td>\n",
       "      <td>1</td>\n",
       "      <td>0</td>\n",
       "      <td>0</td>\n",
       "    </tr>\n",
       "    <tr>\n",
       "      <th>2</th>\n",
       "      <td>12</td>\n",
       "      <td>2096</td>\n",
       "      <td>2</td>\n",
       "      <td>3</td>\n",
       "      <td>49</td>\n",
       "      <td>1</td>\n",
       "      <td>2</td>\n",
       "      <td>0</td>\n",
       "      <td>0</td>\n",
       "      <td>1</td>\n",
       "      <td>...</td>\n",
       "      <td>0</td>\n",
       "      <td>1</td>\n",
       "      <td>0</td>\n",
       "      <td>0</td>\n",
       "      <td>1</td>\n",
       "      <td>0</td>\n",
       "      <td>0</td>\n",
       "      <td>0</td>\n",
       "      <td>0</td>\n",
       "      <td>1</td>\n",
       "    </tr>\n",
       "    <tr>\n",
       "      <th>3</th>\n",
       "      <td>42</td>\n",
       "      <td>7882</td>\n",
       "      <td>2</td>\n",
       "      <td>4</td>\n",
       "      <td>45</td>\n",
       "      <td>1</td>\n",
       "      <td>2</td>\n",
       "      <td>0</td>\n",
       "      <td>0</td>\n",
       "      <td>1</td>\n",
       "      <td>...</td>\n",
       "      <td>0</td>\n",
       "      <td>1</td>\n",
       "      <td>0</td>\n",
       "      <td>1</td>\n",
       "      <td>0</td>\n",
       "      <td>0</td>\n",
       "      <td>0</td>\n",
       "      <td>1</td>\n",
       "      <td>0</td>\n",
       "      <td>0</td>\n",
       "    </tr>\n",
       "    <tr>\n",
       "      <th>4</th>\n",
       "      <td>24</td>\n",
       "      <td>4870</td>\n",
       "      <td>3</td>\n",
       "      <td>4</td>\n",
       "      <td>53</td>\n",
       "      <td>2</td>\n",
       "      <td>2</td>\n",
       "      <td>1</td>\n",
       "      <td>0</td>\n",
       "      <td>1</td>\n",
       "      <td>...</td>\n",
       "      <td>0</td>\n",
       "      <td>1</td>\n",
       "      <td>0</td>\n",
       "      <td>1</td>\n",
       "      <td>0</td>\n",
       "      <td>0</td>\n",
       "      <td>0</td>\n",
       "      <td>1</td>\n",
       "      <td>0</td>\n",
       "      <td>0</td>\n",
       "    </tr>\n",
       "  </tbody>\n",
       "</table>\n",
       "<p>5 rows × 40 columns</p>\n",
       "</div>"
      ],
      "text/plain": [
       "   months_loan_duration  requested_amount  percent_of_income  \\\n",
       "0                     6              1169                  4   \n",
       "1                    48              5951                  2   \n",
       "2                    12              2096                  2   \n",
       "3                    42              7882                  2   \n",
       "4                    24              4870                  3   \n",
       "\n",
       "   years_at_residence  age  existing_loans_count  dependents  decision  \\\n",
       "0                   4   67                     2           1         0   \n",
       "1                   2   22                     1           1         1   \n",
       "2                   3   49                     1           2         0   \n",
       "3                   4   45                     1           2         0   \n",
       "4                   4   53                     2           2         1   \n",
       "\n",
       "   account_balance_1 - 200 DM  account_balance_< 0 DM      ...        \\\n",
       "0                           0                       1      ...         \n",
       "1                           1                       0      ...         \n",
       "2                           0                       1      ...         \n",
       "3                           0                       1      ...         \n",
       "4                           0                       1      ...         \n",
       "\n",
       "   other_credit_bank  other_credit_none  other_credit_store  housing_other  \\\n",
       "0                  0                  1                   0              0   \n",
       "1                  0                  1                   0              0   \n",
       "2                  0                  1                   0              0   \n",
       "3                  0                  1                   0              1   \n",
       "4                  0                  1                   0              1   \n",
       "\n",
       "   housing_own  housing_rent  job_management  job_skilled  job_unemployed  \\\n",
       "0            1             0               0            1               0   \n",
       "1            1             0               0            1               0   \n",
       "2            1             0               0            0               0   \n",
       "3            0             0               0            1               0   \n",
       "4            0             0               0            1               0   \n",
       "\n",
       "   job_unskilled  \n",
       "0              0  \n",
       "1              0  \n",
       "2              1  \n",
       "3              0  \n",
       "4              0  \n",
       "\n",
       "[5 rows x 40 columns]"
      ]
     },
     "execution_count": 95,
     "metadata": {},
     "output_type": "execute_result"
    }
   ],
   "source": [
    "data_dummies.head()"
   ]
  },
  {
   "cell_type": "code",
   "execution_count": 96,
   "metadata": {},
   "outputs": [
    {
     "name": "stdout",
     "output_type": "stream",
     "text": [
      "Time:  0.007602335012052208\n",
      "Train accuracy:  0.7345132743362832\n",
      "Test accuracy:  0.7607655502392344\n"
     ]
    },
    {
     "name": "stderr",
     "output_type": "stream",
     "text": [
      "/anaconda3/lib/python3.5/site-packages/sklearn/linear_model/logistic.py:433: FutureWarning: Default solver will be changed to 'lbfgs' in 0.22. Specify a solver to silence this warning.\n",
      "  FutureWarning)\n",
      "/anaconda3/lib/python3.5/site-packages/sklearn/utils/validation.py:761: DataConversionWarning: A column-vector y was passed when a 1d array was expected. Please change the shape of y to (n_samples, ), for example using ravel().\n",
      "  y = column_or_1d(y, warn=True)\n"
     ]
    }
   ],
   "source": [
    "data_dummies = data_dummies.sample(frac=1)\n",
    "msk = np.random.rand(len(data_dummies)) < 0.8\n",
    "\n",
    "train = data_dummies[msk]\n",
    "test = data_dummies[~msk]\n",
    "\n",
    "train_labels = train[['decision']].copy()\n",
    "test_labels = test[['decision']].copy()\n",
    "\n",
    "train = train.drop('decision', axis=1)\n",
    "test = test.drop('decision', axis=1)\n",
    "\n",
    "start = timeit.default_timer()\n",
    "\n",
    "reg = linear_model.LogisticRegression(C=1e5)\n",
    "reg.fit(train, train_labels)\n",
    "\n",
    "stop = timeit.default_timer()\n",
    "\n",
    "print('Time: ', stop - start)\n",
    "print('Train accuracy: ', reg.score(train, train_labels))\n",
    "print('Test accuracy: ', reg.score(test, test_labels))"
   ]
  },
  {
   "cell_type": "markdown",
   "metadata": {},
   "source": [
    "Test accuracy:  0.7607655502392344"
   ]
  },
  {
   "cell_type": "markdown",
   "metadata": {},
   "source": [
    "## Visualize the data"
   ]
  },
  {
   "cell_type": "code",
   "execution_count": 97,
   "metadata": {},
   "outputs": [
    {
     "data": {
      "text/html": [
       "<div>\n",
       "<style scoped>\n",
       "    .dataframe tbody tr th:only-of-type {\n",
       "        vertical-align: middle;\n",
       "    }\n",
       "\n",
       "    .dataframe tbody tr th {\n",
       "        vertical-align: top;\n",
       "    }\n",
       "\n",
       "    .dataframe thead th {\n",
       "        text-align: right;\n",
       "    }\n",
       "</style>\n",
       "<table border=\"1\" class=\"dataframe\">\n",
       "  <thead>\n",
       "    <tr style=\"text-align: right;\">\n",
       "      <th></th>\n",
       "      <th>account_balance</th>\n",
       "      <th>months_loan_duration</th>\n",
       "      <th>credit_history</th>\n",
       "      <th>purpose</th>\n",
       "      <th>requested_amount</th>\n",
       "      <th>savings_balance</th>\n",
       "      <th>employment_duration</th>\n",
       "      <th>percent_of_income</th>\n",
       "      <th>years_at_residence</th>\n",
       "      <th>age</th>\n",
       "      <th>other_credit</th>\n",
       "      <th>housing</th>\n",
       "      <th>existing_loans_count</th>\n",
       "      <th>job</th>\n",
       "      <th>dependents</th>\n",
       "      <th>decision</th>\n",
       "    </tr>\n",
       "  </thead>\n",
       "  <tbody>\n",
       "    <tr>\n",
       "      <th>0</th>\n",
       "      <td>&lt; 0 DM</td>\n",
       "      <td>6</td>\n",
       "      <td>critical</td>\n",
       "      <td>furniture/appliances</td>\n",
       "      <td>1169</td>\n",
       "      <td>&lt; 100 DM</td>\n",
       "      <td>&gt; 7 years</td>\n",
       "      <td>4</td>\n",
       "      <td>4</td>\n",
       "      <td>67</td>\n",
       "      <td>none</td>\n",
       "      <td>own</td>\n",
       "      <td>2</td>\n",
       "      <td>skilled</td>\n",
       "      <td>1</td>\n",
       "      <td>0</td>\n",
       "    </tr>\n",
       "    <tr>\n",
       "      <th>1</th>\n",
       "      <td>1 - 200 DM</td>\n",
       "      <td>48</td>\n",
       "      <td>good</td>\n",
       "      <td>furniture/appliances</td>\n",
       "      <td>5951</td>\n",
       "      <td>&lt; 100 DM</td>\n",
       "      <td>1 - 4 years</td>\n",
       "      <td>2</td>\n",
       "      <td>2</td>\n",
       "      <td>22</td>\n",
       "      <td>none</td>\n",
       "      <td>own</td>\n",
       "      <td>1</td>\n",
       "      <td>skilled</td>\n",
       "      <td>1</td>\n",
       "      <td>1</td>\n",
       "    </tr>\n",
       "    <tr>\n",
       "      <th>2</th>\n",
       "      <td>&lt; 0 DM</td>\n",
       "      <td>12</td>\n",
       "      <td>critical</td>\n",
       "      <td>education</td>\n",
       "      <td>2096</td>\n",
       "      <td>&lt; 100 DM</td>\n",
       "      <td>4 - 7 years</td>\n",
       "      <td>2</td>\n",
       "      <td>3</td>\n",
       "      <td>49</td>\n",
       "      <td>none</td>\n",
       "      <td>own</td>\n",
       "      <td>1</td>\n",
       "      <td>unskilled</td>\n",
       "      <td>2</td>\n",
       "      <td>0</td>\n",
       "    </tr>\n",
       "    <tr>\n",
       "      <th>3</th>\n",
       "      <td>&lt; 0 DM</td>\n",
       "      <td>42</td>\n",
       "      <td>good</td>\n",
       "      <td>furniture/appliances</td>\n",
       "      <td>7882</td>\n",
       "      <td>&lt; 100 DM</td>\n",
       "      <td>4 - 7 years</td>\n",
       "      <td>2</td>\n",
       "      <td>4</td>\n",
       "      <td>45</td>\n",
       "      <td>none</td>\n",
       "      <td>other</td>\n",
       "      <td>1</td>\n",
       "      <td>skilled</td>\n",
       "      <td>2</td>\n",
       "      <td>0</td>\n",
       "    </tr>\n",
       "    <tr>\n",
       "      <th>4</th>\n",
       "      <td>&lt; 0 DM</td>\n",
       "      <td>24</td>\n",
       "      <td>poor</td>\n",
       "      <td>car</td>\n",
       "      <td>4870</td>\n",
       "      <td>&lt; 100 DM</td>\n",
       "      <td>1 - 4 years</td>\n",
       "      <td>3</td>\n",
       "      <td>4</td>\n",
       "      <td>53</td>\n",
       "      <td>none</td>\n",
       "      <td>other</td>\n",
       "      <td>2</td>\n",
       "      <td>skilled</td>\n",
       "      <td>2</td>\n",
       "      <td>1</td>\n",
       "    </tr>\n",
       "  </tbody>\n",
       "</table>\n",
       "</div>"
      ],
      "text/plain": [
       "  account_balance  months_loan_duration credit_history               purpose  \\\n",
       "0          < 0 DM                     6       critical  furniture/appliances   \n",
       "1      1 - 200 DM                    48           good  furniture/appliances   \n",
       "2          < 0 DM                    12       critical             education   \n",
       "3          < 0 DM                    42           good  furniture/appliances   \n",
       "4          < 0 DM                    24           poor                   car   \n",
       "\n",
       "   requested_amount savings_balance employment_duration  percent_of_income  \\\n",
       "0              1169        < 100 DM           > 7 years                  4   \n",
       "1              5951        < 100 DM         1 - 4 years                  2   \n",
       "2              2096        < 100 DM         4 - 7 years                  2   \n",
       "3              7882        < 100 DM         4 - 7 years                  2   \n",
       "4              4870        < 100 DM         1 - 4 years                  3   \n",
       "\n",
       "   years_at_residence  age other_credit housing  existing_loans_count  \\\n",
       "0                   4   67         none     own                     2   \n",
       "1                   2   22         none     own                     1   \n",
       "2                   3   49         none     own                     1   \n",
       "3                   4   45         none   other                     1   \n",
       "4                   4   53         none   other                     2   \n",
       "\n",
       "         job  dependents  decision  \n",
       "0    skilled           1         0  \n",
       "1    skilled           1         1  \n",
       "2  unskilled           2         0  \n",
       "3    skilled           2         0  \n",
       "4    skilled           2         1  "
      ]
     },
     "execution_count": 97,
     "metadata": {},
     "output_type": "execute_result"
    }
   ],
   "source": [
    "# Explore the data\n",
    "data.head()"
   ]
  },
  {
   "cell_type": "markdown",
   "metadata": {},
   "source": [
    "Purposes for credit"
   ]
  },
  {
   "cell_type": "code",
   "execution_count": 98,
   "metadata": {},
   "outputs": [
    {
     "data": {
      "text/plain": [
       "<matplotlib.axes._subplots.AxesSubplot at 0x1a16864b38>"
      ]
     },
     "execution_count": 98,
     "metadata": {},
     "output_type": "execute_result"
    },
    {
     "data": {
      "image/png": "[encoded data removed]",
      "text/plain": [
       "<Figure size 432x288 with 1 Axes>"
      ]
     },
     "metadata": {},
     "output_type": "display_data"
    }
   ],
   "source": [
    "data.purpose.value_counts().plot(kind='pie')"
   ]
  },
  {
   "cell_type": "markdown",
   "metadata": {},
   "source": [
    "Credit history"
   ]
  },
  {
   "cell_type": "code",
   "execution_count": 99,
   "metadata": {},
   "outputs": [
    {
     "data": {
      "text/plain": [
       "<matplotlib.axes._subplots.AxesSubplot at 0x1a15717e48>"
      ]
     },
     "execution_count": 99,
     "metadata": {},
     "output_type": "execute_result"
    },
    {
     "data": {
      "image/png": "[encoded data removed]",
      "text/plain": [
       "<Figure size 432x288 with 1 Axes>"
      ]
     },
     "metadata": {},
     "output_type": "display_data"
    }
   ],
   "source": [
    "data.credit_history.value_counts().plot(kind='pie')"
   ]
  },
  {
   "cell_type": "markdown",
   "metadata": {},
   "source": [
    "Credits approved (1) and not approved (0) by percent_of_income"
   ]
  },
  {
   "cell_type": "code",
   "execution_count": 100,
   "metadata": {},
   "outputs": [
    {
     "data": {
      "image/png": "[encoded data removed]",
      "text/plain": [
       "<Figure size 432x288 with 1 Axes>"
      ]
     },
     "metadata": {
      "needs_background": "light"
     },
     "output_type": "display_data"
    }
   ],
   "source": [
    "data.groupby(['percent_of_income','decision'])['account_balance'].size().unstack().plot(kind='bar',stacked=True)\n",
    "plt.show()"
   ]
  },
  {
   "cell_type": "markdown",
   "metadata": {},
   "source": [
    "Credits approved (1) and not approved (0) by credit history"
   ]
  },
  {
   "cell_type": "code",
   "execution_count": 101,
   "metadata": {},
   "outputs": [
    {
     "data": {
      "image/png": "[encoded data removed]",
      "text/plain": [
       "<Figure size 432x288 with 1 Axes>"
      ]
     },
     "metadata": {
      "needs_background": "light"
     },
     "output_type": "display_data"
    }
   ],
   "source": [
    "data.groupby(['credit_history','decision'])['account_balance'].size().unstack().plot(kind='bar',stacked=True)\n",
    "plt.show()"
   ]
  },
  {
   "cell_type": "markdown",
   "metadata": {},
   "source": [
    "Credits approved (1) and not approved (0) by age"
   ]
  },
  {
   "cell_type": "code",
   "execution_count": 102,
   "metadata": {},
   "outputs": [
    {
     "data": {
      "image/png": "[encoded data removed]",
      "text/plain": [
       "<Figure size 432x288 with 1 Axes>"
      ]
     },
     "metadata": {
      "needs_background": "light"
     },
     "output_type": "display_data"
    }
   ],
   "source": [
    "data.groupby(['age','decision'])['account_balance'].size().unstack().plot(kind='bar',stacked=True)\n",
    "plt.show()"
   ]
  },
  {
   "cell_type": "markdown",
   "metadata": {},
   "source": [
    "## Feature selection"
   ]
  },
  {
   "cell_type": "markdown",
   "metadata": {},
   "source": [
    "Select features using sklearn.feature_selection.SelectKBest with chi2, f_classif and k=\\[2, 5, 10, 15, 20\\]  \n",
    "After that choose the one with the highest accuracy and extract features from it.  \n",
    "I'll add cross validation to this step in future.  "
   ]
  },
  {
   "cell_type": "code",
   "execution_count": 103,
   "metadata": {
    "collapsed": true
   },
   "outputs": [],
   "source": [
    "data_fs = data_dummies.sample(frac=1)\n",
    "\n",
    "data_fs_X = data_fs.drop('decision', axis=1)\n",
    "data_fs_Y = data_fs[['decision']].copy()"
   ]
  },
  {
   "cell_type": "code",
   "execution_count": 104,
   "metadata": {},
   "outputs": [
    {
     "name": "stdout",
     "output_type": "stream",
     "text": [
      "Time:  0.0026799510087585077\n",
      "Train accuracy:  0.7066326530612245\n",
      "Test accuracy:  0.7083333333333334\n"
     ]
    },
    {
     "name": "stderr",
     "output_type": "stream",
     "text": [
      "/anaconda3/lib/python3.5/site-packages/sklearn/linear_model/logistic.py:433: FutureWarning: Default solver will be changed to 'lbfgs' in 0.22. Specify a solver to silence this warning.\n",
      "  FutureWarning)\n",
      "/anaconda3/lib/python3.5/site-packages/sklearn/utils/validation.py:761: DataConversionWarning: A column-vector y was passed when a 1d array was expected. Please change the shape of y to (n_samples, ), for example using ravel().\n",
      "  y = column_or_1d(y, warn=True)\n"
     ]
    }
   ],
   "source": [
    "data_fs_X_new = SelectKBest(chi2, k=2).fit_transform(data_fs_X, data_fs_Y)\n",
    "\n",
    "msk = np.random.rand(len(data_fs_X_new)) < 0.8\n",
    "\n",
    "train = data_fs_X_new[msk]\n",
    "train_labels = data_fs_Y[msk]\n",
    "test = data_fs_X_new[~msk]\n",
    "test_labels = data_fs_Y[~msk]\n",
    "\n",
    "start = timeit.default_timer()\n",
    "\n",
    "reg = linear_model.LogisticRegression(C=1e5)\n",
    "reg.fit(train, train_labels)\n",
    "\n",
    "stop = timeit.default_timer()\n",
    "\n",
    "print('Time: ', stop - start)\n",
    "print('Train accuracy: ', reg.score(train, train_labels))\n",
    "print('Test accuracy: ', reg.score(test, test_labels))"
   ]
  },
  {
   "cell_type": "code",
   "execution_count": 105,
   "metadata": {},
   "outputs": [
    {
     "name": "stdout",
     "output_type": "stream",
     "text": [
      "Time:  0.0035592300118878484\n",
      "Train accuracy:  0.7153652392947103\n",
      "Test accuracy:  0.7087378640776699\n"
     ]
    },
    {
     "name": "stderr",
     "output_type": "stream",
     "text": [
      "/anaconda3/lib/python3.5/site-packages/sklearn/linear_model/logistic.py:433: FutureWarning: Default solver will be changed to 'lbfgs' in 0.22. Specify a solver to silence this warning.\n",
      "  FutureWarning)\n",
      "/anaconda3/lib/python3.5/site-packages/sklearn/utils/validation.py:761: DataConversionWarning: A column-vector y was passed when a 1d array was expected. Please change the shape of y to (n_samples, ), for example using ravel().\n",
      "  y = column_or_1d(y, warn=True)\n"
     ]
    }
   ],
   "source": [
    "data_fs_X_new = SelectKBest(chi2, k=5).fit_transform(data_fs_X, data_fs_Y)\n",
    "\n",
    "msk = np.random.rand(len(data_fs_X_new)) < 0.8\n",
    "\n",
    "train = data_fs_X_new[msk]\n",
    "train_labels = data_fs_Y[msk]\n",
    "test = data_fs_X_new[~msk]\n",
    "test_labels = data_fs_Y[~msk]\n",
    "\n",
    "start = timeit.default_timer()\n",
    "\n",
    "reg = linear_model.LogisticRegression(C=1e5)\n",
    "reg.fit(train, train_labels)\n",
    "\n",
    "stop = timeit.default_timer()\n",
    "\n",
    "print('Time: ', stop - start)\n",
    "print('Train accuracy: ', reg.score(train, train_labels))\n",
    "print('Test accuracy: ', reg.score(test, test_labels))"
   ]
  },
  {
   "cell_type": "code",
   "execution_count": 106,
   "metadata": {},
   "outputs": [
    {
     "name": "stdout",
     "output_type": "stream",
     "text": [
      "Time:  0.004073150994372554\n",
      "Train accuracy:  0.7094017094017094\n",
      "Test accuracy:  0.7292817679558011\n"
     ]
    },
    {
     "name": "stderr",
     "output_type": "stream",
     "text": [
      "/anaconda3/lib/python3.5/site-packages/sklearn/linear_model/logistic.py:433: FutureWarning: Default solver will be changed to 'lbfgs' in 0.22. Specify a solver to silence this warning.\n",
      "  FutureWarning)\n",
      "/anaconda3/lib/python3.5/site-packages/sklearn/utils/validation.py:761: DataConversionWarning: A column-vector y was passed when a 1d array was expected. Please change the shape of y to (n_samples, ), for example using ravel().\n",
      "  y = column_or_1d(y, warn=True)\n"
     ]
    }
   ],
   "source": [
    "data_fs_X_new = SelectKBest(chi2, k=7).fit_transform(data_fs_X, data_fs_Y)\n",
    "\n",
    "msk = np.random.rand(len(data_fs_X_new)) < 0.8\n",
    "\n",
    "train = data_fs_X_new[msk]\n",
    "train_labels = data_fs_Y[msk]\n",
    "test = data_fs_X_new[~msk]\n",
    "test_labels = data_fs_Y[~msk]\n",
    "\n",
    "start = timeit.default_timer()\n",
    "\n",
    "reg = linear_model.LogisticRegression(C=1e5)\n",
    "reg.fit(train, train_labels)\n",
    "\n",
    "stop = timeit.default_timer()\n",
    "\n",
    "print('Time: ', stop - start)\n",
    "print('Train accuracy: ', reg.score(train, train_labels))\n",
    "print('Test accuracy: ', reg.score(test, test_labels))"
   ]
  },
  {
   "cell_type": "code",
   "execution_count": 107,
   "metadata": {},
   "outputs": [
    {
     "name": "stdout",
     "output_type": "stream",
     "text": [
      "Time:  0.004019792992039584\n",
      "Train accuracy:  0.7217391304347827\n",
      "Test accuracy:  0.7282051282051282\n"
     ]
    },
    {
     "name": "stderr",
     "output_type": "stream",
     "text": [
      "/anaconda3/lib/python3.5/site-packages/sklearn/linear_model/logistic.py:433: FutureWarning: Default solver will be changed to 'lbfgs' in 0.22. Specify a solver to silence this warning.\n",
      "  FutureWarning)\n",
      "/anaconda3/lib/python3.5/site-packages/sklearn/utils/validation.py:761: DataConversionWarning: A column-vector y was passed when a 1d array was expected. Please change the shape of y to (n_samples, ), for example using ravel().\n",
      "  y = column_or_1d(y, warn=True)\n"
     ]
    }
   ],
   "source": [
    "data_fs_X_new = SelectKBest(chi2, k=10).fit_transform(data_fs_X, data_fs_Y)\n",
    "\n",
    "msk = np.random.rand(len(data_fs_X_new)) < 0.8\n",
    "\n",
    "train = data_fs_X_new[msk]\n",
    "train_labels = data_fs_Y[msk]\n",
    "test = data_fs_X_new[~msk]\n",
    "test_labels = data_fs_Y[~msk]\n",
    "\n",
    "start = timeit.default_timer()\n",
    "\n",
    "reg = linear_model.LogisticRegression(C=1e5)\n",
    "reg.fit(train, train_labels)\n",
    "\n",
    "stop = timeit.default_timer()\n",
    "\n",
    "print('Time: ', stop - start)\n",
    "print('Train accuracy: ', reg.score(train, train_labels))\n",
    "print('Test accuracy: ', reg.score(test, test_labels))"
   ]
  },
  {
   "cell_type": "code",
   "execution_count": 108,
   "metadata": {},
   "outputs": [
    {
     "name": "stdout",
     "output_type": "stream",
     "text": [
      "Time:  0.004277857995475642\n",
      "Train accuracy:  0.7284105131414268\n",
      "Test accuracy:  0.7711442786069652\n"
     ]
    },
    {
     "name": "stderr",
     "output_type": "stream",
     "text": [
      "/anaconda3/lib/python3.5/site-packages/sklearn/linear_model/logistic.py:433: FutureWarning: Default solver will be changed to 'lbfgs' in 0.22. Specify a solver to silence this warning.\n",
      "  FutureWarning)\n",
      "/anaconda3/lib/python3.5/site-packages/sklearn/utils/validation.py:761: DataConversionWarning: A column-vector y was passed when a 1d array was expected. Please change the shape of y to (n_samples, ), for example using ravel().\n",
      "  y = column_or_1d(y, warn=True)\n"
     ]
    }
   ],
   "source": [
    "data_fs_X_new = SelectKBest(chi2, k=15).fit_transform(data_fs_X, data_fs_Y)\n",
    "\n",
    "msk = np.random.rand(len(data_fs_X_new)) < 0.8\n",
    "\n",
    "train = data_fs_X_new[msk]\n",
    "train_labels = data_fs_Y[msk]\n",
    "test = data_fs_X_new[~msk]\n",
    "test_labels = data_fs_Y[~msk]\n",
    "\n",
    "start = timeit.default_timer()\n",
    "\n",
    "reg = linear_model.LogisticRegression(C=1e5)\n",
    "reg.fit(train, train_labels)\n",
    "\n",
    "stop = timeit.default_timer()\n",
    "\n",
    "print('Time: ', stop - start)\n",
    "print('Train accuracy: ', reg.score(train, train_labels))\n",
    "print('Test accuracy: ', reg.score(test, test_labels))"
   ]
  },
  {
   "cell_type": "code",
   "execution_count": 109,
   "metadata": {},
   "outputs": [
    {
     "name": "stdout",
     "output_type": "stream",
     "text": [
      "Time:  0.005251786002190784\n",
      "Train accuracy:  0.745679012345679\n",
      "Test accuracy:  0.7210526315789474\n"
     ]
    },
    {
     "name": "stderr",
     "output_type": "stream",
     "text": [
      "/anaconda3/lib/python3.5/site-packages/sklearn/linear_model/logistic.py:433: FutureWarning: Default solver will be changed to 'lbfgs' in 0.22. Specify a solver to silence this warning.\n",
      "  FutureWarning)\n",
      "/anaconda3/lib/python3.5/site-packages/sklearn/utils/validation.py:761: DataConversionWarning: A column-vector y was passed when a 1d array was expected. Please change the shape of y to (n_samples, ), for example using ravel().\n",
      "  y = column_or_1d(y, warn=True)\n"
     ]
    }
   ],
   "source": [
    "data_fs_X_new = SelectKBest(chi2, k=20).fit_transform(data_fs_X, data_fs_Y)\n",
    "\n",
    "msk = np.random.rand(len(data_fs_X_new)) < 0.8\n",
    "\n",
    "train = data_fs_X_new[msk]\n",
    "train_labels = data_fs_Y[msk]\n",
    "test = data_fs_X_new[~msk]\n",
    "test_labels = data_fs_Y[~msk]\n",
    "\n",
    "start = timeit.default_timer()\n",
    "\n",
    "reg = linear_model.LogisticRegression(C=1e5)\n",
    "reg.fit(train, train_labels)\n",
    "\n",
    "stop = timeit.default_timer()\n",
    "\n",
    "print('Time: ', stop - start)\n",
    "print('Train accuracy: ', reg.score(train, train_labels))\n",
    "print('Test accuracy: ', reg.score(test, test_labels))"
   ]
  },
  {
   "cell_type": "markdown",
   "metadata": {},
   "source": [
    "Let's try different classifier"
   ]
  },
  {
   "cell_type": "code",
   "execution_count": 110,
   "metadata": {},
   "outputs": [
    {
     "name": "stdout",
     "output_type": "stream",
     "text": [
      "Time:  0.0021662420040229335\n",
      "Train accuracy:  0.7055214723926381\n",
      "Test accuracy:  0.7135135135135136\n"
     ]
    },
    {
     "name": "stderr",
     "output_type": "stream",
     "text": [
      "/anaconda3/lib/python3.5/site-packages/sklearn/utils/validation.py:761: DataConversionWarning: A column-vector y was passed when a 1d array was expected. Please change the shape of y to (n_samples, ), for example using ravel().\n",
      "  y = column_or_1d(y, warn=True)\n",
      "/anaconda3/lib/python3.5/site-packages/sklearn/linear_model/logistic.py:433: FutureWarning: Default solver will be changed to 'lbfgs' in 0.22. Specify a solver to silence this warning.\n",
      "  FutureWarning)\n",
      "/anaconda3/lib/python3.5/site-packages/sklearn/utils/validation.py:761: DataConversionWarning: A column-vector y was passed when a 1d array was expected. Please change the shape of y to (n_samples, ), for example using ravel().\n",
      "  y = column_or_1d(y, warn=True)\n"
     ]
    }
   ],
   "source": [
    "data_fs_X_new = SelectKBest(score_func=f_classif, k=2).fit_transform(data_fs_X, data_fs_Y)\n",
    "\n",
    "msk = np.random.rand(len(data_fs_X_new)) < 0.8\n",
    "\n",
    "train = data_fs_X_new[msk]\n",
    "train_labels = data_fs_Y[msk]\n",
    "test = data_fs_X_new[~msk]\n",
    "test_labels = data_fs_Y[~msk]\n",
    "\n",
    "start = timeit.default_timer()\n",
    "\n",
    "reg = linear_model.LogisticRegression(C=1e5)\n",
    "reg.fit(train, train_labels)\n",
    "\n",
    "stop = timeit.default_timer()\n",
    "\n",
    "print('Time: ', stop - start)\n",
    "print('Train accuracy: ', reg.score(train, train_labels))\n",
    "print('Test accuracy: ', reg.score(test, test_labels))"
   ]
  },
  {
   "cell_type": "code",
   "execution_count": 111,
   "metadata": {},
   "outputs": [
    {
     "name": "stdout",
     "output_type": "stream",
     "text": [
      "Time:  0.003153609999571927\n",
      "Train accuracy:  0.7207317073170731\n",
      "Test accuracy:  0.7\n"
     ]
    },
    {
     "name": "stderr",
     "output_type": "stream",
     "text": [
      "/anaconda3/lib/python3.5/site-packages/sklearn/utils/validation.py:761: DataConversionWarning: A column-vector y was passed when a 1d array was expected. Please change the shape of y to (n_samples, ), for example using ravel().\n",
      "  y = column_or_1d(y, warn=True)\n",
      "/anaconda3/lib/python3.5/site-packages/sklearn/linear_model/logistic.py:433: FutureWarning: Default solver will be changed to 'lbfgs' in 0.22. Specify a solver to silence this warning.\n",
      "  FutureWarning)\n",
      "/anaconda3/lib/python3.5/site-packages/sklearn/utils/validation.py:761: DataConversionWarning: A column-vector y was passed when a 1d array was expected. Please change the shape of y to (n_samples, ), for example using ravel().\n",
      "  y = column_or_1d(y, warn=True)\n"
     ]
    }
   ],
   "source": [
    "data_fs_X_new = SelectKBest(score_func=f_classif, k=5).fit_transform(data_fs_X, data_fs_Y)\n",
    "\n",
    "msk = np.random.rand(len(data_fs_X_new)) < 0.8\n",
    "\n",
    "train = data_fs_X_new[msk]\n",
    "train_labels = data_fs_Y[msk]\n",
    "test = data_fs_X_new[~msk]\n",
    "test_labels = data_fs_Y[~msk]\n",
    "\n",
    "start = timeit.default_timer()\n",
    "\n",
    "reg = linear_model.LogisticRegression(C=1e5)\n",
    "reg.fit(train, train_labels)\n",
    "\n",
    "stop = timeit.default_timer()\n",
    "\n",
    "print('Time: ', stop - start)\n",
    "print('Train accuracy: ', reg.score(train, train_labels))\n",
    "print('Test accuracy: ', reg.score(test, test_labels))"
   ]
  },
  {
   "cell_type": "code",
   "execution_count": 112,
   "metadata": {},
   "outputs": [
    {
     "name": "stdout",
     "output_type": "stream",
     "text": [
      "Time:  0.0032608170004095882\n",
      "Train accuracy:  0.730958230958231\n",
      "Test accuracy:  0.6989247311827957\n"
     ]
    },
    {
     "name": "stderr",
     "output_type": "stream",
     "text": [
      "/anaconda3/lib/python3.5/site-packages/sklearn/utils/validation.py:761: DataConversionWarning: A column-vector y was passed when a 1d array was expected. Please change the shape of y to (n_samples, ), for example using ravel().\n",
      "  y = column_or_1d(y, warn=True)\n",
      "/anaconda3/lib/python3.5/site-packages/sklearn/linear_model/logistic.py:433: FutureWarning: Default solver will be changed to 'lbfgs' in 0.22. Specify a solver to silence this warning.\n",
      "  FutureWarning)\n",
      "/anaconda3/lib/python3.5/site-packages/sklearn/utils/validation.py:761: DataConversionWarning: A column-vector y was passed when a 1d array was expected. Please change the shape of y to (n_samples, ), for example using ravel().\n",
      "  y = column_or_1d(y, warn=True)\n"
     ]
    }
   ],
   "source": [
    "data_fs_X_new = SelectKBest(score_func=f_classif, k=7).fit_transform(data_fs_X, data_fs_Y)\n",
    "\n",
    "msk = np.random.rand(len(data_fs_X_new)) < 0.8\n",
    "\n",
    "train = data_fs_X_new[msk]\n",
    "train_labels = data_fs_Y[msk]\n",
    "test = data_fs_X_new[~msk]\n",
    "test_labels = data_fs_Y[~msk]\n",
    "\n",
    "start = timeit.default_timer()\n",
    "\n",
    "reg = linear_model.LogisticRegression(C=1e5)\n",
    "reg.fit(train, train_labels)\n",
    "\n",
    "stop = timeit.default_timer()\n",
    "\n",
    "print('Time: ', stop - start)\n",
    "print('Train accuracy: ', reg.score(train, train_labels))\n",
    "print('Test accuracy: ', reg.score(test, test_labels))"
   ]
  },
  {
   "cell_type": "code",
   "execution_count": 113,
   "metadata": {},
   "outputs": [
    {
     "name": "stdout",
     "output_type": "stream",
     "text": [
      "Time:  0.0032595280063105747\n",
      "Train accuracy:  0.724907063197026\n",
      "Test accuracy:  0.7202072538860104\n"
     ]
    },
    {
     "name": "stderr",
     "output_type": "stream",
     "text": [
      "/anaconda3/lib/python3.5/site-packages/sklearn/utils/validation.py:761: DataConversionWarning: A column-vector y was passed when a 1d array was expected. Please change the shape of y to (n_samples, ), for example using ravel().\n",
      "  y = column_or_1d(y, warn=True)\n",
      "/anaconda3/lib/python3.5/site-packages/sklearn/linear_model/logistic.py:433: FutureWarning: Default solver will be changed to 'lbfgs' in 0.22. Specify a solver to silence this warning.\n",
      "  FutureWarning)\n",
      "/anaconda3/lib/python3.5/site-packages/sklearn/utils/validation.py:761: DataConversionWarning: A column-vector y was passed when a 1d array was expected. Please change the shape of y to (n_samples, ), for example using ravel().\n",
      "  y = column_or_1d(y, warn=True)\n"
     ]
    }
   ],
   "source": [
    "data_fs_X_new = SelectKBest(score_func=f_classif, k=10).fit_transform(data_fs_X, data_fs_Y)\n",
    "\n",
    "msk = np.random.rand(len(data_fs_X_new)) < 0.8\n",
    "\n",
    "train = data_fs_X_new[msk]\n",
    "train_labels = data_fs_Y[msk]\n",
    "test = data_fs_X_new[~msk]\n",
    "test_labels = data_fs_Y[~msk]\n",
    "\n",
    "start = timeit.default_timer()\n",
    "\n",
    "reg = linear_model.LogisticRegression(C=1e5)\n",
    "reg.fit(train, train_labels)\n",
    "\n",
    "stop = timeit.default_timer()\n",
    "\n",
    "print('Time: ', stop - start)\n",
    "print('Train accuracy: ', reg.score(train, train_labels))\n",
    "print('Test accuracy: ', reg.score(test, test_labels))"
   ]
  },
  {
   "cell_type": "code",
   "execution_count": 114,
   "metadata": {},
   "outputs": [
    {
     "name": "stdout",
     "output_type": "stream",
     "text": [
      "Time:  0.004342022992204875\n",
      "Train accuracy:  0.7408343868520859\n",
      "Test accuracy:  0.69377990430622\n"
     ]
    },
    {
     "name": "stderr",
     "output_type": "stream",
     "text": [
      "/anaconda3/lib/python3.5/site-packages/sklearn/utils/validation.py:761: DataConversionWarning: A column-vector y was passed when a 1d array was expected. Please change the shape of y to (n_samples, ), for example using ravel().\n",
      "  y = column_or_1d(y, warn=True)\n",
      "/anaconda3/lib/python3.5/site-packages/sklearn/linear_model/logistic.py:433: FutureWarning: Default solver will be changed to 'lbfgs' in 0.22. Specify a solver to silence this warning.\n",
      "  FutureWarning)\n",
      "/anaconda3/lib/python3.5/site-packages/sklearn/utils/validation.py:761: DataConversionWarning: A column-vector y was passed when a 1d array was expected. Please change the shape of y to (n_samples, ), for example using ravel().\n",
      "  y = column_or_1d(y, warn=True)\n"
     ]
    }
   ],
   "source": [
    "data_fs_X_new = SelectKBest(score_func=f_classif, k=15).fit_transform(data_fs_X, data_fs_Y)\n",
    "\n",
    "msk = np.random.rand(len(data_fs_X_new)) < 0.8\n",
    "\n",
    "train = data_fs_X_new[msk]\n",
    "train_labels = data_fs_Y[msk]\n",
    "test = data_fs_X_new[~msk]\n",
    "test_labels = data_fs_Y[~msk]\n",
    "\n",
    "start = timeit.default_timer()\n",
    "\n",
    "reg = linear_model.LogisticRegression(C=1e5)\n",
    "reg.fit(train, train_labels)\n",
    "\n",
    "stop = timeit.default_timer()\n",
    "\n",
    "print('Time: ', stop - start)\n",
    "print('Train accuracy: ', reg.score(train, train_labels))\n",
    "print('Test accuracy: ', reg.score(test, test_labels))"
   ]
  },
  {
   "cell_type": "code",
   "execution_count": 115,
   "metadata": {},
   "outputs": [
    {
     "name": "stdout",
     "output_type": "stream",
     "text": [
      "Time:  0.0054870280000614\n",
      "Train accuracy:  0.7413793103448276\n",
      "Test accuracy:  0.7180851063829787\n"
     ]
    },
    {
     "name": "stderr",
     "output_type": "stream",
     "text": [
      "/anaconda3/lib/python3.5/site-packages/sklearn/utils/validation.py:761: DataConversionWarning: A column-vector y was passed when a 1d array was expected. Please change the shape of y to (n_samples, ), for example using ravel().\n",
      "  y = column_or_1d(y, warn=True)\n",
      "/anaconda3/lib/python3.5/site-packages/sklearn/linear_model/logistic.py:433: FutureWarning: Default solver will be changed to 'lbfgs' in 0.22. Specify a solver to silence this warning.\n",
      "  FutureWarning)\n",
      "/anaconda3/lib/python3.5/site-packages/sklearn/utils/validation.py:761: DataConversionWarning: A column-vector y was passed when a 1d array was expected. Please change the shape of y to (n_samples, ), for example using ravel().\n",
      "  y = column_or_1d(y, warn=True)\n"
     ]
    }
   ],
   "source": [
    "data_fs_X_new = SelectKBest(score_func=f_classif, k=20).fit_transform(data_fs_X, data_fs_Y)\n",
    "\n",
    "msk = np.random.rand(len(data_fs_X_new)) < 0.8\n",
    "\n",
    "train = data_fs_X_new[msk]\n",
    "train_labels = data_fs_Y[msk]\n",
    "test = data_fs_X_new[~msk]\n",
    "test_labels = data_fs_Y[~msk]\n",
    "\n",
    "start = timeit.default_timer()\n",
    "\n",
    "reg = linear_model.LogisticRegression(C=1e5)\n",
    "reg.fit(train, train_labels)\n",
    "\n",
    "stop = timeit.default_timer()\n",
    "\n",
    "print('Time: ', stop - start)\n",
    "print('Train accuracy: ', reg.score(train, train_labels))\n",
    "print('Test accuracy: ', reg.score(test, test_labels))"
   ]
  },
  {
   "cell_type": "markdown",
   "metadata": {},
   "source": [
    "Got the best result with **chi2, k=15**. Let's find out what are the features there"
   ]
  },
  {
   "cell_type": "code",
   "execution_count": 116,
   "metadata": {
    "collapsed": true
   },
   "outputs": [],
   "source": [
    "selector = SelectKBest(chi2, k=15)\n",
    "data_fs_X_new = selector.fit_transform(data_fs_X, data_fs_Y)\n",
    "\n",
    "mask = selector.get_support()\n",
    "feature_names = list(data_fs_X.columns.values)\n",
    "new_features = []\n",
    "\n",
    "for bool, feature in zip(mask, feature_names):\n",
    "    if bool:\n",
    "        new_features.append(feature)"
   ]
  },
  {
   "cell_type": "markdown",
   "metadata": {},
   "source": [
    "These are the features that mostly effected the status"
   ]
  },
  {
   "cell_type": "code",
   "execution_count": 117,
   "metadata": {},
   "outputs": [
    {
     "data": {
      "text/plain": [
       "['months_loan_duration',\n",
       " 'requested_amount',\n",
       " 'age',\n",
       " 'account_balance_1 - 200 DM',\n",
       " 'credit_history_critical',\n",
       " 'credit_history_perfect',\n",
       " 'credit_history_very good',\n",
       " 'savings_balance_500 - 1000 DM',\n",
       " 'savings_balance_> 1000 DM',\n",
       " 'employment_duration_4 - 7 years',\n",
       " 'employment_duration_< 1 year',\n",
       " 'other_credit_bank',\n",
       " 'housing_other',\n",
       " 'housing_own',\n",
       " 'housing_rent']"
      ]
     },
     "execution_count": 117,
     "metadata": {},
     "output_type": "execute_result"
    }
   ],
   "source": [
    "new_features"
   ]
  },
  {
   "cell_type": "code",
   "execution_count": 118,
   "metadata": {
    "collapsed": true
   },
   "outputs": [],
   "source": [
    "data_dummies.to_csv('data/final.csv')"
   ]
  },
  {
   "cell_type": "markdown",
   "metadata": {},
   "source": [
    "## Conclusions"
   ]
  },
  {
   "cell_type": "markdown",
   "metadata": {},
   "source": [
    "The accuracy on original dataset was 0.65\n",
    "\n",
    "After **data integration, data cleaning, inserting missing values** it increased to 0.73\n",
    "\n",
    "Using **feature selection** increased it to 0.77"
   ]
  },
  {
   "cell_type": "markdown",
   "metadata": {},
   "source": [
    "Features that mostly effected the status\n",
    "```\n",
    "['months_loan_duration',\n",
    " 'requested_amount',\n",
    " 'age',\n",
    " 'account_balance_1 - 200 DM',\n",
    " 'credit_history_critical',\n",
    " 'credit_history_perfect',\n",
    " 'credit_history_very good',\n",
    " 'savings_balance_500 - 1000 DM',\n",
    " 'savings_balance_> 1000 DM',\n",
    " 'employment_duration_4 - 7 years',\n",
    " 'employment_duration_< 1 year',\n",
    " 'other_credit_bank',\n",
    " 'housing_other',\n",
    " 'housing_own',\n",
    " 'housing_rent']\n",
    "```"
   ]
  },
  {
   "cell_type": "markdown",
   "metadata": {},
   "source": [
    "After getting good improvement using SelectKBest method I decided not to proceed with other feature selection methods."
   ]
  },
  {
   "cell_type": "markdown",
   "metadata": {},
   "source": [
    "In summary using data clean up, inserting missing values and feature selection increased the accuracy on this data by 12% which is great result for classification problem like this."
   ]
  },
  {
   "cell_type": "code",
   "execution_count": null,
   "metadata": {
    "collapsed": true
   },
   "outputs": [],
   "source": []
  }
 ],
 "metadata": {
  "kernelspec": {
   "display_name": "Python 3",
   "language": "python",
   "name": "python3"
  },
  "language_info": {
   "codemirror_mode": {
    "name": "ipython",
    "version": 2
   },
   "file_extension": ".py",
   "mimetype": "text/x-python",
   "name": "python",
   "nbconvert_exporter": "python",
   "pygments_lexer": "ipython2",
   "version": "2.7.3"
  },
  "widgets": {
   "state": {},
   "version": "1.1.2"
  }
 },
 "nbformat": 4,
 "nbformat_minor": 2
}
